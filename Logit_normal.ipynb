{
 "cells": [
  {
   "cell_type": "code",
   "execution_count": 1393,
   "metadata": {},
   "outputs": [
    {
     "data": {
      "text/html": [
       "<div>\n",
       "<style scoped>\n",
       "    .dataframe tbody tr th:only-of-type {\n",
       "        vertical-align: middle;\n",
       "    }\n",
       "\n",
       "    .dataframe tbody tr th {\n",
       "        vertical-align: top;\n",
       "    }\n",
       "\n",
       "    .dataframe thead th {\n",
       "        text-align: right;\n",
       "    }\n",
       "</style>\n",
       "<table border=\"1\" class=\"dataframe\">\n",
       "  <thead>\n",
       "    <tr style=\"text-align: right;\">\n",
       "      <th></th>\n",
       "      <th>score_JG</th>\n",
       "      <th>country_name_ltn</th>\n",
       "      <th>nuts_id</th>\n",
       "      <th>gend</th>\n",
       "      <th>edu</th>\n",
       "      <th>emp</th>\n",
       "      <th>age</th>\n",
       "      <th>urban</th>\n",
       "      <th>ethni_groups</th>\n",
       "    </tr>\n",
       "  </thead>\n",
       "  <tbody>\n",
       "    <tr>\n",
       "      <th>0</th>\n",
       "      <td>0.351852</td>\n",
       "      <td>Austria</td>\n",
       "      <td>AT1</td>\n",
       "      <td>2</td>\n",
       "      <td>3.0</td>\n",
       "      <td>1</td>\n",
       "      <td>50</td>\n",
       "      <td>1</td>\n",
       "      <td>0.0</td>\n",
       "    </tr>\n",
       "    <tr>\n",
       "      <th>1</th>\n",
       "      <td>0.055556</td>\n",
       "      <td>Austria</td>\n",
       "      <td>AT1</td>\n",
       "      <td>2</td>\n",
       "      <td>6.0</td>\n",
       "      <td>1</td>\n",
       "      <td>49</td>\n",
       "      <td>1</td>\n",
       "      <td>0.0</td>\n",
       "    </tr>\n",
       "    <tr>\n",
       "      <th>2</th>\n",
       "      <td>0.500000</td>\n",
       "      <td>Austria</td>\n",
       "      <td>AT1</td>\n",
       "      <td>1</td>\n",
       "      <td>3.0</td>\n",
       "      <td>6</td>\n",
       "      <td>70</td>\n",
       "      <td>2</td>\n",
       "      <td>1.0</td>\n",
       "    </tr>\n",
       "    <tr>\n",
       "      <th>3</th>\n",
       "      <td>0.944444</td>\n",
       "      <td>Austria</td>\n",
       "      <td>AT1</td>\n",
       "      <td>2</td>\n",
       "      <td>5.0</td>\n",
       "      <td>7</td>\n",
       "      <td>39</td>\n",
       "      <td>1</td>\n",
       "      <td>1.0</td>\n",
       "    </tr>\n",
       "    <tr>\n",
       "      <th>4</th>\n",
       "      <td>0.500000</td>\n",
       "      <td>Austria</td>\n",
       "      <td>AT1</td>\n",
       "      <td>1</td>\n",
       "      <td>7.0</td>\n",
       "      <td>7</td>\n",
       "      <td>53</td>\n",
       "      <td>1</td>\n",
       "      <td>0.0</td>\n",
       "    </tr>\n",
       "    <tr>\n",
       "      <th>...</th>\n",
       "      <td>...</td>\n",
       "      <td>...</td>\n",
       "      <td>...</td>\n",
       "      <td>...</td>\n",
       "      <td>...</td>\n",
       "      <td>...</td>\n",
       "      <td>...</td>\n",
       "      <td>...</td>\n",
       "      <td>...</td>\n",
       "    </tr>\n",
       "    <tr>\n",
       "      <th>27703</th>\n",
       "      <td>0.055556</td>\n",
       "      <td>Sweden</td>\n",
       "      <td>SE3</td>\n",
       "      <td>2</td>\n",
       "      <td>7.0</td>\n",
       "      <td>1</td>\n",
       "      <td>31</td>\n",
       "      <td>1</td>\n",
       "      <td>0.0</td>\n",
       "    </tr>\n",
       "    <tr>\n",
       "      <th>27704</th>\n",
       "      <td>0.944444</td>\n",
       "      <td>Sweden</td>\n",
       "      <td>SE3</td>\n",
       "      <td>2</td>\n",
       "      <td>5.0</td>\n",
       "      <td>1</td>\n",
       "      <td>28</td>\n",
       "      <td>1</td>\n",
       "      <td>0.0</td>\n",
       "    </tr>\n",
       "    <tr>\n",
       "      <th>27705</th>\n",
       "      <td>0.055556</td>\n",
       "      <td>Sweden</td>\n",
       "      <td>SE3</td>\n",
       "      <td>1</td>\n",
       "      <td>4.0</td>\n",
       "      <td>3</td>\n",
       "      <td>26</td>\n",
       "      <td>1</td>\n",
       "      <td>0.0</td>\n",
       "    </tr>\n",
       "    <tr>\n",
       "      <th>27706</th>\n",
       "      <td>0.500000</td>\n",
       "      <td>Sweden</td>\n",
       "      <td>SE3</td>\n",
       "      <td>1</td>\n",
       "      <td>4.0</td>\n",
       "      <td>1</td>\n",
       "      <td>55</td>\n",
       "      <td>2</td>\n",
       "      <td>0.0</td>\n",
       "    </tr>\n",
       "    <tr>\n",
       "      <th>27707</th>\n",
       "      <td>0.944444</td>\n",
       "      <td>Sweden</td>\n",
       "      <td>SE3</td>\n",
       "      <td>1</td>\n",
       "      <td>7.0</td>\n",
       "      <td>1</td>\n",
       "      <td>61</td>\n",
       "      <td>1</td>\n",
       "      <td>0.0</td>\n",
       "    </tr>\n",
       "  </tbody>\n",
       "</table>\n",
       "<p>27708 rows × 9 columns</p>\n",
       "</div>"
      ],
      "text/plain": [
       "       score_JG country_name_ltn nuts_id  gend  edu  emp  age  urban  \\\n",
       "0      0.351852          Austria     AT1     2  3.0    1   50      1   \n",
       "1      0.055556          Austria     AT1     2  6.0    1   49      1   \n",
       "2      0.500000          Austria     AT1     1  3.0    6   70      2   \n",
       "3      0.944444          Austria     AT1     2  5.0    7   39      1   \n",
       "4      0.500000          Austria     AT1     1  7.0    7   53      1   \n",
       "...         ...              ...     ...   ...  ...  ...  ...    ...   \n",
       "27703  0.055556           Sweden     SE3     2  7.0    1   31      1   \n",
       "27704  0.944444           Sweden     SE3     2  5.0    1   28      1   \n",
       "27705  0.055556           Sweden     SE3     1  4.0    3   26      1   \n",
       "27706  0.500000           Sweden     SE3     1  4.0    1   55      2   \n",
       "27707  0.944444           Sweden     SE3     1  7.0    1   61      1   \n",
       "\n",
       "       ethni_groups  \n",
       "0               0.0  \n",
       "1               0.0  \n",
       "2               1.0  \n",
       "3               1.0  \n",
       "4               0.0  \n",
       "...             ...  \n",
       "27703           0.0  \n",
       "27704           0.0  \n",
       "27705           0.0  \n",
       "27706           0.0  \n",
       "27707           0.0  \n",
       "\n",
       "[27708 rows x 9 columns]"
      ]
     },
     "execution_count": 1393,
     "metadata": {},
     "output_type": "execute_result"
    }
   ],
   "source": [
    "import pandas as pd\n",
    "import numpy as np\n",
    "import seaborn as sns\n",
    "from scipy.special import logit\n",
    "from sklearn.model_selection import train_test_split\n",
    "import numpy as np\n",
    "from scipy.stats import invgamma, multivariate_normal\n",
    "import matplotlib.pyplot as plt\n",
    "df = pd.read_csv('justice_score.csv', encoding='ISO-8859-1')\n",
    "df\n"
   ]
  },
  {
   "cell_type": "code",
   "execution_count": 1394,
   "metadata": {},
   "outputs": [
    {
     "data": {
      "text/plain": [
       "<Axes: ylabel='Density'>"
      ]
     },
     "execution_count": 1394,
     "metadata": {},
     "output_type": "execute_result"
    },
    {
     "data": {
      "image/png": "[encoded data removed]",
      "text/plain": [
       "<Figure size 432x288 with 1 Axes>"
      ]
     },
     "metadata": {
      "needs_background": "light"
     },
     "output_type": "display_data"
    }
   ],
   "source": [
    "df['score_JG'].plot(kind= 'kde')"
   ]
  },
  {
   "cell_type": "code",
   "execution_count": 1395,
   "metadata": {},
   "outputs": [
    {
     "data": {
      "text/plain": [
       "<Axes: ylabel='Density'>"
      ]
     },
     "execution_count": 1395,
     "metadata": {},
     "output_type": "execute_result"
    },
    {
     "data": {
      "image/png": "[encoded data removed]",
      "text/plain": [
       "<Figure size 432x288 with 1 Axes>"
      ]
     },
     "metadata": {
      "needs_background": "light"
     },
     "output_type": "display_data"
    }
   ],
   "source": [
    "log_score = logit(df['score_JG'])\n",
    "log_score.plot(kind='kde')"
   ]
  },
  {
   "cell_type": "code",
   "execution_count": 1396,
   "metadata": {},
   "outputs": [
    {
     "data": {
      "text/html": [
       "<div>\n",
       "<style scoped>\n",
       "    .dataframe tbody tr th:only-of-type {\n",
       "        vertical-align: middle;\n",
       "    }\n",
       "\n",
       "    .dataframe tbody tr th {\n",
       "        vertical-align: top;\n",
       "    }\n",
       "\n",
       "    .dataframe thead th {\n",
       "        text-align: right;\n",
       "    }\n",
       "</style>\n",
       "<table border=\"1\" class=\"dataframe\">\n",
       "  <thead>\n",
       "    <tr style=\"text-align: right;\">\n",
       "      <th></th>\n",
       "      <th>score_JG</th>\n",
       "      <th>country_name_ltn</th>\n",
       "      <th>nuts_id</th>\n",
       "      <th>gend</th>\n",
       "      <th>edu</th>\n",
       "      <th>emp</th>\n",
       "      <th>age</th>\n",
       "      <th>urban</th>\n",
       "      <th>ethni_groups</th>\n",
       "    </tr>\n",
       "  </thead>\n",
       "  <tbody>\n",
       "    <tr>\n",
       "      <th>0</th>\n",
       "      <td>0.351852</td>\n",
       "      <td>Austria</td>\n",
       "      <td>AT1</td>\n",
       "      <td>0</td>\n",
       "      <td>3.0</td>\n",
       "      <td>1</td>\n",
       "      <td>50</td>\n",
       "      <td>1</td>\n",
       "      <td>0.0</td>\n",
       "    </tr>\n",
       "    <tr>\n",
       "      <th>1</th>\n",
       "      <td>0.055556</td>\n",
       "      <td>Austria</td>\n",
       "      <td>AT1</td>\n",
       "      <td>0</td>\n",
       "      <td>6.0</td>\n",
       "      <td>1</td>\n",
       "      <td>49</td>\n",
       "      <td>1</td>\n",
       "      <td>0.0</td>\n",
       "    </tr>\n",
       "    <tr>\n",
       "      <th>2</th>\n",
       "      <td>0.500000</td>\n",
       "      <td>Austria</td>\n",
       "      <td>AT1</td>\n",
       "      <td>1</td>\n",
       "      <td>3.0</td>\n",
       "      <td>6</td>\n",
       "      <td>70</td>\n",
       "      <td>0</td>\n",
       "      <td>1.0</td>\n",
       "    </tr>\n",
       "    <tr>\n",
       "      <th>3</th>\n",
       "      <td>0.944444</td>\n",
       "      <td>Austria</td>\n",
       "      <td>AT1</td>\n",
       "      <td>0</td>\n",
       "      <td>5.0</td>\n",
       "      <td>7</td>\n",
       "      <td>39</td>\n",
       "      <td>1</td>\n",
       "      <td>1.0</td>\n",
       "    </tr>\n",
       "    <tr>\n",
       "      <th>4</th>\n",
       "      <td>0.500000</td>\n",
       "      <td>Austria</td>\n",
       "      <td>AT1</td>\n",
       "      <td>1</td>\n",
       "      <td>7.0</td>\n",
       "      <td>7</td>\n",
       "      <td>53</td>\n",
       "      <td>1</td>\n",
       "      <td>0.0</td>\n",
       "    </tr>\n",
       "    <tr>\n",
       "      <th>...</th>\n",
       "      <td>...</td>\n",
       "      <td>...</td>\n",
       "      <td>...</td>\n",
       "      <td>...</td>\n",
       "      <td>...</td>\n",
       "      <td>...</td>\n",
       "      <td>...</td>\n",
       "      <td>...</td>\n",
       "      <td>...</td>\n",
       "    </tr>\n",
       "    <tr>\n",
       "      <th>27703</th>\n",
       "      <td>0.055556</td>\n",
       "      <td>Sweden</td>\n",
       "      <td>SE3</td>\n",
       "      <td>0</td>\n",
       "      <td>7.0</td>\n",
       "      <td>1</td>\n",
       "      <td>31</td>\n",
       "      <td>1</td>\n",
       "      <td>0.0</td>\n",
       "    </tr>\n",
       "    <tr>\n",
       "      <th>27704</th>\n",
       "      <td>0.944444</td>\n",
       "      <td>Sweden</td>\n",
       "      <td>SE3</td>\n",
       "      <td>0</td>\n",
       "      <td>5.0</td>\n",
       "      <td>1</td>\n",
       "      <td>28</td>\n",
       "      <td>1</td>\n",
       "      <td>0.0</td>\n",
       "    </tr>\n",
       "    <tr>\n",
       "      <th>27705</th>\n",
       "      <td>0.055556</td>\n",
       "      <td>Sweden</td>\n",
       "      <td>SE3</td>\n",
       "      <td>1</td>\n",
       "      <td>4.0</td>\n",
       "      <td>3</td>\n",
       "      <td>26</td>\n",
       "      <td>1</td>\n",
       "      <td>0.0</td>\n",
       "    </tr>\n",
       "    <tr>\n",
       "      <th>27706</th>\n",
       "      <td>0.500000</td>\n",
       "      <td>Sweden</td>\n",
       "      <td>SE3</td>\n",
       "      <td>1</td>\n",
       "      <td>4.0</td>\n",
       "      <td>1</td>\n",
       "      <td>55</td>\n",
       "      <td>0</td>\n",
       "      <td>0.0</td>\n",
       "    </tr>\n",
       "    <tr>\n",
       "      <th>27707</th>\n",
       "      <td>0.944444</td>\n",
       "      <td>Sweden</td>\n",
       "      <td>SE3</td>\n",
       "      <td>1</td>\n",
       "      <td>7.0</td>\n",
       "      <td>1</td>\n",
       "      <td>61</td>\n",
       "      <td>1</td>\n",
       "      <td>0.0</td>\n",
       "    </tr>\n",
       "  </tbody>\n",
       "</table>\n",
       "<p>27708 rows × 9 columns</p>\n",
       "</div>"
      ],
      "text/plain": [
       "       score_JG country_name_ltn nuts_id  gend  edu  emp  age  urban  \\\n",
       "0      0.351852          Austria     AT1     0  3.0    1   50      1   \n",
       "1      0.055556          Austria     AT1     0  6.0    1   49      1   \n",
       "2      0.500000          Austria     AT1     1  3.0    6   70      0   \n",
       "3      0.944444          Austria     AT1     0  5.0    7   39      1   \n",
       "4      0.500000          Austria     AT1     1  7.0    7   53      1   \n",
       "...         ...              ...     ...   ...  ...  ...  ...    ...   \n",
       "27703  0.055556           Sweden     SE3     0  7.0    1   31      1   \n",
       "27704  0.944444           Sweden     SE3     0  5.0    1   28      1   \n",
       "27705  0.055556           Sweden     SE3     1  4.0    3   26      1   \n",
       "27706  0.500000           Sweden     SE3     1  4.0    1   55      0   \n",
       "27707  0.944444           Sweden     SE3     1  7.0    1   61      1   \n",
       "\n",
       "       ethni_groups  \n",
       "0               0.0  \n",
       "1               0.0  \n",
       "2               1.0  \n",
       "3               1.0  \n",
       "4               0.0  \n",
       "...             ...  \n",
       "27703           0.0  \n",
       "27704           0.0  \n",
       "27705           0.0  \n",
       "27706           0.0  \n",
       "27707           0.0  \n",
       "\n",
       "[27708 rows x 9 columns]"
      ]
     },
     "execution_count": 1396,
     "metadata": {},
     "output_type": "execute_result"
    }
   ],
   "source": [
    "df['gend'] = df['gend'].apply(lambda x: 0 if x == 2 else 1)\n",
    "df['urban'] = df['urban'].apply(lambda x: 0 if x == 2 else 1)\n",
    "\n",
    "df"
   ]
  },
  {
   "cell_type": "code",
   "execution_count": 1397,
   "metadata": {},
   "outputs": [
    {
     "data": {
      "text/html": [
       "<div>\n",
       "<style scoped>\n",
       "    .dataframe tbody tr th:only-of-type {\n",
       "        vertical-align: middle;\n",
       "    }\n",
       "\n",
       "    .dataframe tbody tr th {\n",
       "        vertical-align: top;\n",
       "    }\n",
       "\n",
       "    .dataframe thead th {\n",
       "        text-align: right;\n",
       "    }\n",
       "</style>\n",
       "<table border=\"1\" class=\"dataframe\">\n",
       "  <thead>\n",
       "    <tr style=\"text-align: right;\">\n",
       "      <th></th>\n",
       "      <th>country_name_ltn</th>\n",
       "      <th>nuts_id</th>\n",
       "      <th>score_JG</th>\n",
       "      <th>gend</th>\n",
       "      <th>edu</th>\n",
       "      <th>emp</th>\n",
       "      <th>age</th>\n",
       "      <th>urban</th>\n",
       "      <th>ethni_groups</th>\n",
       "    </tr>\n",
       "  </thead>\n",
       "  <tbody>\n",
       "    <tr>\n",
       "      <th>0</th>\n",
       "      <td>Austria</td>\n",
       "      <td>AT1</td>\n",
       "      <td>0.508514</td>\n",
       "      <td>0.487356</td>\n",
       "      <td>5.448276</td>\n",
       "      <td>4.006897</td>\n",
       "      <td>45.924138</td>\n",
       "      <td>0.719540</td>\n",
       "      <td>0.609195</td>\n",
       "    </tr>\n",
       "    <tr>\n",
       "      <th>1</th>\n",
       "      <td>Austria</td>\n",
       "      <td>AT2</td>\n",
       "      <td>0.501474</td>\n",
       "      <td>0.437811</td>\n",
       "      <td>5.935323</td>\n",
       "      <td>3.888060</td>\n",
       "      <td>46.967662</td>\n",
       "      <td>0.599502</td>\n",
       "      <td>0.567164</td>\n",
       "    </tr>\n",
       "    <tr>\n",
       "      <th>2</th>\n",
       "      <td>Austria</td>\n",
       "      <td>AT3</td>\n",
       "      <td>0.513670</td>\n",
       "      <td>0.436409</td>\n",
       "      <td>5.653367</td>\n",
       "      <td>4.399002</td>\n",
       "      <td>45.386534</td>\n",
       "      <td>0.633416</td>\n",
       "      <td>0.518703</td>\n",
       "    </tr>\n",
       "    <tr>\n",
       "      <th>3</th>\n",
       "      <td>Belgium</td>\n",
       "      <td>BE1</td>\n",
       "      <td>0.541123</td>\n",
       "      <td>0.491103</td>\n",
       "      <td>5.654804</td>\n",
       "      <td>3.932384</td>\n",
       "      <td>42.366548</td>\n",
       "      <td>1.000000</td>\n",
       "      <td>0.473310</td>\n",
       "    </tr>\n",
       "    <tr>\n",
       "      <th>4</th>\n",
       "      <td>Belgium</td>\n",
       "      <td>BE2</td>\n",
       "      <td>0.520055</td>\n",
       "      <td>0.467249</td>\n",
       "      <td>4.393013</td>\n",
       "      <td>5.034934</td>\n",
       "      <td>47.755459</td>\n",
       "      <td>0.930131</td>\n",
       "      <td>0.650655</td>\n",
       "    </tr>\n",
       "    <tr>\n",
       "      <th>...</th>\n",
       "      <td>...</td>\n",
       "      <td>...</td>\n",
       "      <td>...</td>\n",
       "      <td>...</td>\n",
       "      <td>...</td>\n",
       "      <td>...</td>\n",
       "      <td>...</td>\n",
       "      <td>...</td>\n",
       "      <td>...</td>\n",
       "    </tr>\n",
       "    <tr>\n",
       "      <th>102</th>\n",
       "      <td>Spain</td>\n",
       "      <td>ES6</td>\n",
       "      <td>0.499009</td>\n",
       "      <td>0.488294</td>\n",
       "      <td>5.254181</td>\n",
       "      <td>3.735786</td>\n",
       "      <td>48.331104</td>\n",
       "      <td>0.896321</td>\n",
       "      <td>0.000000</td>\n",
       "    </tr>\n",
       "    <tr>\n",
       "      <th>103</th>\n",
       "      <td>Spain</td>\n",
       "      <td>ES7</td>\n",
       "      <td>0.538647</td>\n",
       "      <td>0.431884</td>\n",
       "      <td>5.301449</td>\n",
       "      <td>4.002899</td>\n",
       "      <td>43.707246</td>\n",
       "      <td>0.933333</td>\n",
       "      <td>0.000000</td>\n",
       "    </tr>\n",
       "    <tr>\n",
       "      <th>104</th>\n",
       "      <td>Sweden</td>\n",
       "      <td>SE1</td>\n",
       "      <td>0.510667</td>\n",
       "      <td>0.484000</td>\n",
       "      <td>7.144000</td>\n",
       "      <td>3.368000</td>\n",
       "      <td>42.788000</td>\n",
       "      <td>0.876000</td>\n",
       "      <td>0.000000</td>\n",
       "    </tr>\n",
       "    <tr>\n",
       "      <th>105</th>\n",
       "      <td>Sweden</td>\n",
       "      <td>SE2</td>\n",
       "      <td>0.491972</td>\n",
       "      <td>0.458128</td>\n",
       "      <td>4.975369</td>\n",
       "      <td>4.275862</td>\n",
       "      <td>47.182266</td>\n",
       "      <td>0.679803</td>\n",
       "      <td>0.000000</td>\n",
       "    </tr>\n",
       "    <tr>\n",
       "      <th>106</th>\n",
       "      <td>Sweden</td>\n",
       "      <td>SE3</td>\n",
       "      <td>0.466021</td>\n",
       "      <td>0.509174</td>\n",
       "      <td>5.651376</td>\n",
       "      <td>3.229358</td>\n",
       "      <td>58.000000</td>\n",
       "      <td>0.591743</td>\n",
       "      <td>0.000000</td>\n",
       "    </tr>\n",
       "  </tbody>\n",
       "</table>\n",
       "<p>107 rows × 9 columns</p>\n",
       "</div>"
      ],
      "text/plain": [
       "    country_name_ltn nuts_id  score_JG      gend       edu       emp  \\\n",
       "0            Austria     AT1  0.508514  0.487356  5.448276  4.006897   \n",
       "1            Austria     AT2  0.501474  0.437811  5.935323  3.888060   \n",
       "2            Austria     AT3  0.513670  0.436409  5.653367  4.399002   \n",
       "3            Belgium     BE1  0.541123  0.491103  5.654804  3.932384   \n",
       "4            Belgium     BE2  0.520055  0.467249  4.393013  5.034934   \n",
       "..               ...     ...       ...       ...       ...       ...   \n",
       "102            Spain     ES6  0.499009  0.488294  5.254181  3.735786   \n",
       "103            Spain     ES7  0.538647  0.431884  5.301449  4.002899   \n",
       "104           Sweden     SE1  0.510667  0.484000  7.144000  3.368000   \n",
       "105           Sweden     SE2  0.491972  0.458128  4.975369  4.275862   \n",
       "106           Sweden     SE3  0.466021  0.509174  5.651376  3.229358   \n",
       "\n",
       "           age     urban  ethni_groups  \n",
       "0    45.924138  0.719540      0.609195  \n",
       "1    46.967662  0.599502      0.567164  \n",
       "2    45.386534  0.633416      0.518703  \n",
       "3    42.366548  1.000000      0.473310  \n",
       "4    47.755459  0.930131      0.650655  \n",
       "..         ...       ...           ...  \n",
       "102  48.331104  0.896321      0.000000  \n",
       "103  43.707246  0.933333      0.000000  \n",
       "104  42.788000  0.876000      0.000000  \n",
       "105  47.182266  0.679803      0.000000  \n",
       "106  58.000000  0.591743      0.000000  \n",
       "\n",
       "[107 rows x 9 columns]"
      ]
     },
     "execution_count": 1397,
     "metadata": {},
     "output_type": "execute_result"
    }
   ],
   "source": [
    "# Maybe we should explore scaling ALL of these values, Idk why but just seems like it could maybe help... \n",
    "df_grouped = df.groupby(['country_name_ltn','nuts_id']).mean().reset_index()\n",
    "df_grouped"
   ]
  },
  {
   "cell_type": "code",
   "execution_count": 1398,
   "metadata": {},
   "outputs": [
    {
     "data": {
      "text/plain": [
       "<Axes: ylabel='Density'>"
      ]
     },
     "execution_count": 1398,
     "metadata": {},
     "output_type": "execute_result"
    },
    {
     "data": {
      "image/png": "[encoded data removed]",
      "text/plain": [
       "<Figure size 432x288 with 1 Axes>"
      ]
     },
     "metadata": {
      "needs_background": "light"
     },
     "output_type": "display_data"
    }
   ],
   "source": [
    "df_grouped.score_JG.plot(kind = 'kde')"
   ]
  },
  {
   "cell_type": "code",
   "execution_count": 1399,
   "metadata": {},
   "outputs": [
    {
     "data": {
      "text/plain": [
       "<Axes: ylabel='Density'>"
      ]
     },
     "execution_count": 1399,
     "metadata": {},
     "output_type": "execute_result"
    },
    {
     "data": {
      "image/png": "[encoded data removed]",
      "text/plain": [
       "<Figure size 432x288 with 1 Axes>"
      ]
     },
     "metadata": {
      "needs_background": "light"
     },
     "output_type": "display_data"
    }
   ],
   "source": [
    "X = logit(df_grouped.score_JG)\n",
    "X.plot(kind = 'kde')"
   ]
  },
  {
   "cell_type": "code",
   "execution_count": 1400,
   "metadata": {},
   "outputs": [],
   "source": [
    "Y = df_grouped[[\"gend\",\"edu\",\"emp\",\"age\",\"urban\",\"ethni_groups\"]]"
   ]
  },
  {
   "cell_type": "code",
   "execution_count": 1401,
   "metadata": {},
   "outputs": [
    {
     "data": {
      "text/plain": [
       "<Axes: >"
      ]
     },
     "execution_count": 1401,
     "metadata": {},
     "output_type": "execute_result"
    },
    {
     "data": {
      "image/png": "[encoded data removed]",
      "text/plain": [
       "<Figure size 432x288 with 2 Axes>"
      ]
     },
     "metadata": {
      "needs_background": "light"
     },
     "output_type": "display_data"
    }
   ],
   "source": [
    "sns.heatmap(Y.corr(),annot=True)"
   ]
  },
  {
   "cell_type": "code",
   "execution_count": 1402,
   "metadata": {},
   "outputs": [],
   "source": [
    "# This is flipped because my X and Y were flipped further up \n",
    "Y_train,Y_test,X_train, X_test,  = train_test_split(X,Y,test_size=0.5)"
   ]
  },
  {
   "cell_type": "code",
   "execution_count": 1403,
   "metadata": {},
   "outputs": [],
   "source": [
    "p = X_train.shape[1]\n",
    "n = X_train.shape[0]\n",
    "beta_0 = np.zeros(p)  \n",
    "V_0 = np.eye(p) * 10\n",
    "a_0, b_0 = 2, 2  "
   ]
  },
  {
   "cell_type": "code",
   "execution_count": 1404,
   "metadata": {},
   "outputs": [],
   "source": [
    "V_n = np.linalg.inv(X_train.T @ X_train + np.linalg.inv(V_0))\n",
    "beta_n = V_n @ (X_train.T @ Y_train + np.linalg.inv(V_0) @ beta_0)\n",
    "a_n = a_0 + n / 2\n",
    "# b_n = b_0 + 0.5 * ((Y_train - X_train @ beta_n).T @ (Y_train - X_train @ beta_n))\n",
    "b_n = b_0 + 0.5 * ((Y_train - X_train @ beta_n).T @ (Y_train - X_train @ beta_n)) + 0.5 * np.trace(X_train.T @ X_train @ V_n)\n"
   ]
  },
  {
   "cell_type": "code",
   "execution_count": 1405,
   "metadata": {},
   "outputs": [
    {
     "data": {
      "text/plain": [
       "array([0.51396937, 0.647242  , 0.6872259 , 0.39905234, 0.43428638,\n",
       "       0.55289347, 0.43538286, 0.40430242, 0.35696022, 0.67401645,\n",
       "       0.42180791, 0.52756737, 0.58771815, 0.3415546 , 0.49032318,\n",
       "       0.30649678, 0.57195444, 0.33064003, 0.53118927, 0.69176965,\n",
       "       0.45342851, 0.61804114, 0.46540707, 0.44788182, 0.51142026,\n",
       "       0.4029256 , 0.62128837, 0.56290137, 0.47982213, 0.21696857,\n",
       "       0.33509484, 0.51295743, 0.41623924, 0.45154003, 0.70320258,\n",
       "       0.54854028, 0.37761992, 0.56632879, 0.60713147, 0.63201479,\n",
       "       0.42676365, 0.3463374 , 0.35971927, 0.35027214, 0.53301532,\n",
       "       0.6252436 , 0.54405868, 0.59456768, 0.51400797, 0.47830413,\n",
       "       0.79812704, 0.43710456, 0.53835937, 0.50774324])"
      ]
     },
     "execution_count": 1405,
     "metadata": {},
     "output_type": "execute_result"
    }
   ],
   "source": [
    "# sigma2_sample = invgamma.rvs(a_n, scale=b_n, size=1)\n",
    "# sigma2_sample = invgamma.rvs(a_n, scale=b_n / a_n, size=1)  \n",
    "sigma2_sample = invgamma.rvs(a_n, scale=b_n / a_n, size=1) *2 # multiplied by 2 to Increase variance\n",
    "beta_sample = multivariate_normal.rvs(beta_n, V_n)\n",
    "mu_pred = X_test @ beta_sample\n",
    "logit_samples = np.random.normal(mu_pred, np.sqrt(sigma2_sample))  # decided to sample in logit space\n",
    "y_pred = 1 / (1 + np.exp(-logit_samples))  # Then transfor to probability space\n",
    "Y_test = (Y_test - np.min(Y_test)) / (np.max(Y_test) - np.min(Y_test))\n",
    "# y_pred = 1 / (1 + np.exp(-np.random.normal(mu_pred, np.sqrt(sigma2_sample))))\n",
    "y_pred"
   ]
  },
  {
   "cell_type": "code",
   "execution_count": 1406,
   "metadata": {},
   "outputs": [
    {
     "name": "stdout",
     "output_type": "stream",
     "text": [
      "y_pred:[0.51396937 0.647242   0.6872259  0.39905234 0.43428638 0.55289347\n",
      " 0.43538286 0.40430242 0.35696022 0.67401645 0.42180791 0.52756737\n",
      " 0.58771815 0.3415546  0.49032318 0.30649678 0.57195444 0.33064003\n",
      " 0.53118927 0.69176965 0.45342851 0.61804114 0.46540707 0.44788182\n",
      " 0.51142026 0.4029256  0.62128837 0.56290137 0.47982213 0.21696857\n",
      " 0.33509484 0.51295743 0.41623924 0.45154003 0.70320258 0.54854028\n",
      " 0.37761992 0.56632879 0.60713147 0.63201479 0.42676365 0.3463374\n",
      " 0.35971927 0.35027214 0.53301532 0.6252436  0.54405868 0.59456768\n",
      " 0.51400797 0.47830413 0.79812704 0.43710456 0.53835937 0.50774324]\n",
      "Y_test:102    2.926607e-01\n",
      "95     3.277320e-01\n",
      "35     2.841198e-01\n",
      "75     1.697214e-01\n",
      "26     1.457411e-01\n",
      "1      3.036610e-01\n",
      "5      3.897423e-01\n",
      "46     4.229016e-01\n",
      "23     2.603513e-01\n",
      "61     4.034505e-01\n",
      "103    4.698900e-01\n",
      "80     5.556108e-01\n",
      "58     8.764229e-01\n",
      "45     3.465437e-01\n",
      "66     2.227523e-01\n",
      "17     5.540174e-01\n",
      "68     2.316799e-01\n",
      "74     1.510076e-01\n",
      "90     2.970828e-01\n",
      "100    4.231417e-01\n",
      "12     2.676986e-01\n",
      "37     4.132184e-01\n",
      "7      4.759637e-01\n",
      "89     5.508231e-01\n",
      "67     1.752235e-01\n",
      "50     4.311750e-01\n",
      "11     9.255352e-02\n",
      "30     3.593207e-01\n",
      "21     3.806300e-01\n",
      "51     3.922998e-01\n",
      "49     2.849745e-01\n",
      "56     1.000000e+00\n",
      "41     3.081939e-01\n",
      "0      3.350811e-01\n",
      "99     3.275612e-01\n",
      "84     3.981542e-01\n",
      "54     2.843200e-01\n",
      "70     1.976883e-01\n",
      "36     5.966195e-01\n",
      "59     4.694198e-01\n",
      "52     2.945302e-01\n",
      "20     3.820705e-01\n",
      "39     1.968478e-01\n",
      "4      3.866256e-01\n",
      "47     3.558046e-01\n",
      "16     6.093586e-02\n",
      "69     2.222581e-01\n",
      "62     3.070136e-01\n",
      "25     1.651704e-01\n",
      "63     2.354527e-01\n",
      "106    1.452188e-01\n",
      "10     2.940913e-01\n",
      "91     1.202189e-01\n",
      "94     1.000000e-09\n",
      "Name: score_JG, dtype: float64\n",
      "Variance of Y_test: 0.0305\n",
      "Variance of y_pred: 0.0137\n"
     ]
    }
   ],
   "source": [
    "def convert_back_vector(y):\n",
    "    y = np.clip(y, 1e-9, 1 - 1e-9)  \n",
    "    mu = np.log(y / (1 - y))\n",
    "    return 1 / (1 + np.exp(-mu)) \n",
    "# DO WE CONVERT BOTH BACK? WHY at this point in time?\n",
    "y_pred= convert_back_vector(y_pred)\n",
    "Y_test = convert_back_vector(Y_test)\n",
    "print(f\"y_pred:{y_pred}\")\n",
    "print(f\"Y_test:{Y_test}\")\n",
    "# I think we are having problems with the amount of variance that we ar trying to capture\n",
    "print(f\"Variance of Y_test: {np.var(Y_test):.4f}\")\n",
    "print(f\"Variance of y_pred: {np.var(y_pred):.4f}\")\n"
   ]
  },
  {
   "cell_type": "code",
   "execution_count": 1407,
   "metadata": {},
   "outputs": [
    {
     "name": "stdout",
     "output_type": "stream",
     "text": [
      "Model Performance Metrics:\n",
      "--------------------------------\n",
      "Mean Squared Error (MSE)  : 0.0721\n",
      "Root Mean Squared Error (RMSE) : 0.2686\n",
      "Mean Absolute Error (MAE) : 0.2200\n",
      "R² Score : -1.3649\n"
     ]
    }
   ],
   "source": [
    "def MSE_RMSE_MAE_R2(y_test, y_pred):\n",
    "    y_test = np.array(y_test)\n",
    "    y_pred = np.array(y_pred)\n",
    "    ss_total = np.sum((y_test - np.mean(y_test)) ** 2)  \n",
    "    ss_residual = np.sum((y_test - y_pred) ** 2)  \n",
    "    r2 = 1 - (ss_residual / ss_total) if ss_total != 0 else float(\"nan\") \n",
    "    MSE = np.mean((y_test - y_pred) ** 2)\n",
    "    RMSE = np.sqrt(MSE)\n",
    "    MAE = np.mean(np.abs(y_test - y_pred))\n",
    "    return MSE, RMSE, MAE, r2\n",
    "MSE, RMSE, MAE, R2 = MSE_RMSE_MAE_R2(Y_test, y_pred)\n",
    "\n",
    "print(f\"Model Performance Metrics:\")\n",
    "print(\"--------------------------------\")\n",
    "print(f\"Mean Squared Error (MSE)  : {MSE:.4f}\")\n",
    "print(f\"Root Mean Squared Error (RMSE) : {RMSE:.4f}\")\n",
    "print(f\"Mean Absolute Error (MAE) : {MAE:.4f}\")\n",
    "print(f\"R² Score : {R2:.4f}\")\n"
   ]
  },
  {
   "cell_type": "code",
   "execution_count": 1408,
   "metadata": {},
   "outputs": [
    {
     "data": {
      "image/png": "[encoded data removed]",
      "text/plain": [
       "<Figure size 432x288 with 1 Axes>"
      ]
     },
     "metadata": {
      "needs_background": "light"
     },
     "output_type": "display_data"
    }
   ],
   "source": [
    "plt.scatter(Y_test, y_pred, color=\"blue\", label=\"Predicted vs Actual\")\n",
    "plt.plot([min(Y_test), max(Y_test)], [min(Y_test), max(Y_test)], color=\"red\", linestyle=\"dashed\", label=\"Ideal Fit\")\n",
    "plt.xlabel(\"Actual Values\")\n",
    "plt.ylabel(\"Predicted Values\")\n",
    "plt.legend()\n",
    "plt.show()\n"
   ]
  },
  {
   "cell_type": "code",
   "execution_count": 1409,
   "metadata": {},
   "outputs": [
    {
     "data": {
      "text/plain": [
       "<Axes: ylabel='Density'>"
      ]
     },
     "execution_count": 1409,
     "metadata": {},
     "output_type": "execute_result"
    },
    {
     "data": {
      "image/png": "[encoded data removed]",
      "text/plain": [
       "<Figure size 432x288 with 1 Axes>"
      ]
     },
     "metadata": {
      "needs_background": "light"
     },
     "output_type": "display_data"
    }
   ],
   "source": [
    "Y_test = np.array(Y_test)\n",
    "comparisons = pd.DataFrame({\"predicted\": y_pred, \"actual\": Y_test})\n",
    "comparisons\n",
    "# comparisons.plot()\n",
    "comparisons.plot(kind='kde')"
   ]
  },
  {
   "cell_type": "code",
   "execution_count": 1410,
   "metadata": {},
   "outputs": [
    {
     "data": {
      "text/plain": [
       "Text(0.5, 1.0, 'Distribution of Predictions vs. Actuals')"
      ]
     },
     "execution_count": 1410,
     "metadata": {},
     "output_type": "execute_result"
    },
    {
     "data": {
      "image/png": "[encoded data removed]",
      "text/plain": [
       "<Figure size 432x288 with 1 Axes>"
      ]
     },
     "metadata": {
      "needs_background": "light"
     },
     "output_type": "display_data"
    }
   ],
   "source": [
    "sns.histplot(y_pred, kde=True, color=\"blue\", label=\"Predicted\")\n",
    "sns.histplot(Y_test, kde=True, color=\"red\", label=\"Actual\", alpha=0.6)\n",
    "plt.legend()\n",
    "plt.title(\"Distribution of Predictions vs. Actuals\")"
   ]
  },
  {
   "cell_type": "code",
   "execution_count": 1411,
   "metadata": {},
   "outputs": [
    {
     "data": {
      "image/png": "[encoded data removed]",
      "text/plain": [
       "<Figure size 432x288 with 1 Axes>"
      ]
     },
     "metadata": {
      "needs_background": "light"
     },
     "output_type": "display_data"
    }
   ],
   "source": [
    "plt.scatter(Y_test, y_pred, color=\"blue\", label=\"Predicted vs Actual\")\n",
    "plt.xlabel(\"Actual Values (Y_test)\")\n",
    "plt.ylabel(\"Predicted Probabilities (y_pred)\")\n",
    "plt.axhline(y=np.mean(Y_test), color=\"red\", linestyle=\"dashed\", label=\"Mean of Y_test\")\n",
    "plt.legend()\n",
    "plt.title(\"Predicted vs Actual\")\n",
    "plt.show()\n"
   ]
  },
  {
   "cell_type": "code",
   "execution_count": null,
   "metadata": {},
   "outputs": [],
   "source": []
  }
 ],
 "metadata": {
  "kernelspec": {
   "display_name": "Python 3",
   "language": "python",
   "name": "python3"
  },
  "language_info": {
   "codemirror_mode": {
    "name": "ipython",
    "version": 3
   },
   "file_extension": ".py",
   "mimetype": "text/x-python",
   "name": "python",
   "nbconvert_exporter": "python",
   "pygments_lexer": "ipython3",
   "version": "3.10.6"
  }
 },
 "nbformat": 4,
 "nbformat_minor": 2
}
