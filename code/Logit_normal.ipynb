{
 "cells": [
  {
   "cell_type": "markdown",
   "metadata": {},
   "source": [
    "#### Bayesian Logit Normal Inference\n",
    "We assume that the logit transformation of our response, \n",
    "$$z_i = \\log\\left(\\frac{y_i}{1-y_i}\\right)$$\n",
    "is modeled as\n",
    "$$z_i \\sim \\mathcal{N}(X_i\\beta,\\,\\sigma^2)$$\n",
    "This means that the likelihood is\n",
    "$$L(\\beta,\\sigma^2\\mid z) \\propto (2\\pi\\sigma^2)^{-n/2}\\exp\\!\\Bigl\\{-\\frac{1}{2\\sigma^2}(z-X\\beta)^\\top(z-X\\beta)\\Bigr\\}$$\n",
    "Using Jeffrey's prior, we have:\n",
    "$$\\pi(\\beta,\\sigma^2) \\propto \\frac{1}{\\sigma^{p+2}}$$\n",
    "Which leads (after some algebra) to closed form conditionals:\n",
    "- Conditional for $\\beta$ given $\\sigma^2$:\n",
    "$$\\beta\\mid\\sigma^2,z \\sim \\mathcal{N}\\Bigl(\\hat{\\beta},\\,\\sigma^2 (X^\\top X)^{-1}\\Bigr)$$\n",
    "with $\\hat{\\beta} = (X^\\top X)^{-1}X^\\top z$.\n",
    "\n",
    "- Conditional for $\\sigma^2$ given $\\beta$:\n",
    "$$\\sigma^2\\mid\\beta,z \\sim \\text{Inverse-Gamma}\\Bigl(\\frac{n}{2},\\,\\frac{\\text{SSE}}{2}\\Bigr)$$\n",
    "where $\\text{SSE} = (z-X\\beta)^\\top(z-X\\beta)$\n"
   ]
  },
  {
   "cell_type": "code",
   "execution_count": 1,
   "metadata": {},
   "outputs": [
    {
     "ename": "ModuleNotFoundError",
     "evalue": "No module named 'seaborn'",
     "output_type": "error",
     "traceback": [
      "\u001b[0;31m---------------------------------------------------------------------------\u001b[0m",
      "\u001b[0;31mModuleNotFoundError\u001b[0m                       Traceback (most recent call last)",
      "Cell \u001b[0;32mIn[1], line 3\u001b[0m\n\u001b[1;32m      1\u001b[0m \u001b[38;5;28;01mimport\u001b[39;00m\u001b[38;5;250m \u001b[39m\u001b[38;5;21;01mpandas\u001b[39;00m\u001b[38;5;250m \u001b[39m\u001b[38;5;28;01mas\u001b[39;00m\u001b[38;5;250m \u001b[39m\u001b[38;5;21;01mpd\u001b[39;00m\n\u001b[1;32m      2\u001b[0m \u001b[38;5;28;01mimport\u001b[39;00m\u001b[38;5;250m \u001b[39m\u001b[38;5;21;01mnumpy\u001b[39;00m\u001b[38;5;250m \u001b[39m\u001b[38;5;28;01mas\u001b[39;00m\u001b[38;5;250m \u001b[39m\u001b[38;5;21;01mnp\u001b[39;00m\n\u001b[0;32m----> 3\u001b[0m \u001b[38;5;28;01mimport\u001b[39;00m\u001b[38;5;250m \u001b[39m\u001b[38;5;21;01mseaborn\u001b[39;00m\u001b[38;5;250m \u001b[39m\u001b[38;5;28;01mas\u001b[39;00m\u001b[38;5;250m \u001b[39m\u001b[38;5;21;01msns\u001b[39;00m\n\u001b[1;32m      4\u001b[0m \u001b[38;5;28;01mfrom\u001b[39;00m\u001b[38;5;250m \u001b[39m\u001b[38;5;21;01mscipy\u001b[39;00m\u001b[38;5;21;01m.\u001b[39;00m\u001b[38;5;21;01mspecial\u001b[39;00m\u001b[38;5;250m \u001b[39m\u001b[38;5;28;01mimport\u001b[39;00m logit\n\u001b[1;32m      5\u001b[0m \u001b[38;5;28;01mfrom\u001b[39;00m\u001b[38;5;250m \u001b[39m\u001b[38;5;21;01msklearn\u001b[39;00m\u001b[38;5;21;01m.\u001b[39;00m\u001b[38;5;21;01mmodel_selection\u001b[39;00m\u001b[38;5;250m \u001b[39m\u001b[38;5;28;01mimport\u001b[39;00m train_test_split\n",
      "\u001b[0;31mModuleNotFoundError\u001b[0m: No module named 'seaborn'"
     ]
    }
   ],
   "source": [
    "import pandas as pd\n",
    "import numpy as np\n",
    "import seaborn as sns\n",
    "from scipy.special import logit\n",
    "from sklearn.model_selection import train_test_split\n",
    "import numpy as np\n",
    "from scipy.stats import invgamma, multivariate_normal\n",
    "\n"
   ]
  },
  {
   "cell_type": "code",
   "execution_count": null,
   "metadata": {},
   "outputs": [
    {
     "data": {
      "text/html": [
       "<div>\n",
       "<style scoped>\n",
       "    .dataframe tbody tr th:only-of-type {\n",
       "        vertical-align: middle;\n",
       "    }\n",
       "\n",
       "    .dataframe tbody tr th {\n",
       "        vertical-align: top;\n",
       "    }\n",
       "\n",
       "    .dataframe thead th {\n",
       "        text-align: right;\n",
       "    }\n",
       "</style>\n",
       "<table border=\"1\" class=\"dataframe\">\n",
       "  <thead>\n",
       "    <tr style=\"text-align: right;\">\n",
       "      <th></th>\n",
       "      <th>score_JG</th>\n",
       "      <th>country_name_ltn</th>\n",
       "      <th>nuts_id</th>\n",
       "      <th>gend</th>\n",
       "      <th>edu</th>\n",
       "      <th>emp</th>\n",
       "      <th>age</th>\n",
       "      <th>urban</th>\n",
       "      <th>ethni_groups</th>\n",
       "    </tr>\n",
       "  </thead>\n",
       "  <tbody>\n",
       "    <tr>\n",
       "      <th>0</th>\n",
       "      <td>0.351852</td>\n",
       "      <td>Austria</td>\n",
       "      <td>AT1</td>\n",
       "      <td>2</td>\n",
       "      <td>3.0</td>\n",
       "      <td>1</td>\n",
       "      <td>50</td>\n",
       "      <td>1</td>\n",
       "      <td>0.0</td>\n",
       "    </tr>\n",
       "    <tr>\n",
       "      <th>1</th>\n",
       "      <td>0.055556</td>\n",
       "      <td>Austria</td>\n",
       "      <td>AT1</td>\n",
       "      <td>2</td>\n",
       "      <td>6.0</td>\n",
       "      <td>1</td>\n",
       "      <td>49</td>\n",
       "      <td>1</td>\n",
       "      <td>0.0</td>\n",
       "    </tr>\n",
       "    <tr>\n",
       "      <th>2</th>\n",
       "      <td>0.500000</td>\n",
       "      <td>Austria</td>\n",
       "      <td>AT1</td>\n",
       "      <td>1</td>\n",
       "      <td>3.0</td>\n",
       "      <td>6</td>\n",
       "      <td>70</td>\n",
       "      <td>2</td>\n",
       "      <td>1.0</td>\n",
       "    </tr>\n",
       "    <tr>\n",
       "      <th>3</th>\n",
       "      <td>0.944444</td>\n",
       "      <td>Austria</td>\n",
       "      <td>AT1</td>\n",
       "      <td>2</td>\n",
       "      <td>5.0</td>\n",
       "      <td>7</td>\n",
       "      <td>39</td>\n",
       "      <td>1</td>\n",
       "      <td>1.0</td>\n",
       "    </tr>\n",
       "    <tr>\n",
       "      <th>4</th>\n",
       "      <td>0.500000</td>\n",
       "      <td>Austria</td>\n",
       "      <td>AT1</td>\n",
       "      <td>1</td>\n",
       "      <td>7.0</td>\n",
       "      <td>7</td>\n",
       "      <td>53</td>\n",
       "      <td>1</td>\n",
       "      <td>0.0</td>\n",
       "    </tr>\n",
       "    <tr>\n",
       "      <th>...</th>\n",
       "      <td>...</td>\n",
       "      <td>...</td>\n",
       "      <td>...</td>\n",
       "      <td>...</td>\n",
       "      <td>...</td>\n",
       "      <td>...</td>\n",
       "      <td>...</td>\n",
       "      <td>...</td>\n",
       "      <td>...</td>\n",
       "    </tr>\n",
       "    <tr>\n",
       "      <th>27703</th>\n",
       "      <td>0.055556</td>\n",
       "      <td>Sweden</td>\n",
       "      <td>SE3</td>\n",
       "      <td>2</td>\n",
       "      <td>7.0</td>\n",
       "      <td>1</td>\n",
       "      <td>31</td>\n",
       "      <td>1</td>\n",
       "      <td>0.0</td>\n",
       "    </tr>\n",
       "    <tr>\n",
       "      <th>27704</th>\n",
       "      <td>0.944444</td>\n",
       "      <td>Sweden</td>\n",
       "      <td>SE3</td>\n",
       "      <td>2</td>\n",
       "      <td>5.0</td>\n",
       "      <td>1</td>\n",
       "      <td>28</td>\n",
       "      <td>1</td>\n",
       "      <td>0.0</td>\n",
       "    </tr>\n",
       "    <tr>\n",
       "      <th>27705</th>\n",
       "      <td>0.055556</td>\n",
       "      <td>Sweden</td>\n",
       "      <td>SE3</td>\n",
       "      <td>1</td>\n",
       "      <td>4.0</td>\n",
       "      <td>3</td>\n",
       "      <td>26</td>\n",
       "      <td>1</td>\n",
       "      <td>0.0</td>\n",
       "    </tr>\n",
       "    <tr>\n",
       "      <th>27706</th>\n",
       "      <td>0.500000</td>\n",
       "      <td>Sweden</td>\n",
       "      <td>SE3</td>\n",
       "      <td>1</td>\n",
       "      <td>4.0</td>\n",
       "      <td>1</td>\n",
       "      <td>55</td>\n",
       "      <td>2</td>\n",
       "      <td>0.0</td>\n",
       "    </tr>\n",
       "    <tr>\n",
       "      <th>27707</th>\n",
       "      <td>0.944444</td>\n",
       "      <td>Sweden</td>\n",
       "      <td>SE3</td>\n",
       "      <td>1</td>\n",
       "      <td>7.0</td>\n",
       "      <td>1</td>\n",
       "      <td>61</td>\n",
       "      <td>1</td>\n",
       "      <td>0.0</td>\n",
       "    </tr>\n",
       "  </tbody>\n",
       "</table>\n",
       "<p>27708 rows × 9 columns</p>\n",
       "</div>"
      ],
      "text/plain": [
       "       score_JG country_name_ltn nuts_id  gend  edu  emp  age  urban  \\\n",
       "0      0.351852          Austria     AT1     2  3.0    1   50      1   \n",
       "1      0.055556          Austria     AT1     2  6.0    1   49      1   \n",
       "2      0.500000          Austria     AT1     1  3.0    6   70      2   \n",
       "3      0.944444          Austria     AT1     2  5.0    7   39      1   \n",
       "4      0.500000          Austria     AT1     1  7.0    7   53      1   \n",
       "...         ...              ...     ...   ...  ...  ...  ...    ...   \n",
       "27703  0.055556           Sweden     SE3     2  7.0    1   31      1   \n",
       "27704  0.944444           Sweden     SE3     2  5.0    1   28      1   \n",
       "27705  0.055556           Sweden     SE3     1  4.0    3   26      1   \n",
       "27706  0.500000           Sweden     SE3     1  4.0    1   55      2   \n",
       "27707  0.944444           Sweden     SE3     1  7.0    1   61      1   \n",
       "\n",
       "       ethni_groups  \n",
       "0               0.0  \n",
       "1               0.0  \n",
       "2               1.0  \n",
       "3               1.0  \n",
       "4               0.0  \n",
       "...             ...  \n",
       "27703           0.0  \n",
       "27704           0.0  \n",
       "27705           0.0  \n",
       "27706           0.0  \n",
       "27707           0.0  \n",
       "\n",
       "[27708 rows x 9 columns]"
      ]
     },
     "execution_count": 2,
     "metadata": {},
     "output_type": "execute_result"
    }
   ],
   "source": [
    "df = pd.read_csv('justice_score.csv', encoding='ISO-8859-1')\n",
    "df = df.loc(\n",
    "    (df['gend'] != 98) & (df['gend'] ! = 99)\n",
    ")\n",
    "df"
   ]
  },
  {
   "cell_type": "markdown",
   "metadata": {},
   "source": [
    "It is clear that we are nowhere close to a normally distributed y value. let's try transform the data.\n"
   ]
  },
  {
   "cell_type": "code",
   "execution_count": 3,
   "metadata": {},
   "outputs": [
    {
     "data": {
      "text/plain": [
       "<Axes: ylabel='Density'>"
      ]
     },
     "execution_count": 3,
     "metadata": {},
     "output_type": "execute_result"
    },
    {
     "data": {
      "image/png": "[encoded data removed]",
      "text/plain": [
       "<Figure size 432x288 with 1 Axes>"
      ]
     },
     "metadata": {
      "needs_background": "light"
     },
     "output_type": "display_data"
    }
   ],
   "source": [
    "df['score_JG'].plot(kind= 'kde')"
   ]
  },
  {
   "cell_type": "code",
   "execution_count": 4,
   "metadata": {},
   "outputs": [
    {
     "data": {
      "text/plain": [
       "<Axes: ylabel='Density'>"
      ]
     },
     "execution_count": 4,
     "metadata": {},
     "output_type": "execute_result"
    },
    {
     "data": {
      "image/png": "[encoded data removed]",
      "text/plain": [
       "<Figure size 432x288 with 1 Axes>"
      ]
     },
     "metadata": {
      "needs_background": "light"
     },
     "output_type": "display_data"
    }
   ],
   "source": [
    "log_score = logit(df['score_JG'])\n",
    "log_score.plot(kind='kde')"
   ]
  },
  {
   "cell_type": "markdown",
   "metadata": {},
   "source": [
    "before we aggregate, let;s do some data formatting so our variables can be ore descriptive"
   ]
  },
  {
   "cell_type": "code",
   "execution_count": 5,
   "metadata": {},
   "outputs": [
    {
     "data": {
      "text/html": [
       "<div>\n",
       "<style scoped>\n",
       "    .dataframe tbody tr th:only-of-type {\n",
       "        vertical-align: middle;\n",
       "    }\n",
       "\n",
       "    .dataframe tbody tr th {\n",
       "        vertical-align: top;\n",
       "    }\n",
       "\n",
       "    .dataframe thead th {\n",
       "        text-align: right;\n",
       "    }\n",
       "</style>\n",
       "<table border=\"1\" class=\"dataframe\">\n",
       "  <thead>\n",
       "    <tr style=\"text-align: right;\">\n",
       "      <th></th>\n",
       "      <th>score_JG</th>\n",
       "      <th>country_name_ltn</th>\n",
       "      <th>nuts_id</th>\n",
       "      <th>gend</th>\n",
       "      <th>edu</th>\n",
       "      <th>emp</th>\n",
       "      <th>age</th>\n",
       "      <th>urban</th>\n",
       "      <th>ethni_groups</th>\n",
       "    </tr>\n",
       "  </thead>\n",
       "  <tbody>\n",
       "    <tr>\n",
       "      <th>0</th>\n",
       "      <td>0.351852</td>\n",
       "      <td>Austria</td>\n",
       "      <td>AT1</td>\n",
       "      <td>0</td>\n",
       "      <td>3.0</td>\n",
       "      <td>1</td>\n",
       "      <td>50</td>\n",
       "      <td>1</td>\n",
       "      <td>0.0</td>\n",
       "    </tr>\n",
       "    <tr>\n",
       "      <th>1</th>\n",
       "      <td>0.055556</td>\n",
       "      <td>Austria</td>\n",
       "      <td>AT1</td>\n",
       "      <td>0</td>\n",
       "      <td>6.0</td>\n",
       "      <td>1</td>\n",
       "      <td>49</td>\n",
       "      <td>1</td>\n",
       "      <td>0.0</td>\n",
       "    </tr>\n",
       "    <tr>\n",
       "      <th>2</th>\n",
       "      <td>0.500000</td>\n",
       "      <td>Austria</td>\n",
       "      <td>AT1</td>\n",
       "      <td>1</td>\n",
       "      <td>3.0</td>\n",
       "      <td>6</td>\n",
       "      <td>70</td>\n",
       "      <td>0</td>\n",
       "      <td>1.0</td>\n",
       "    </tr>\n",
       "    <tr>\n",
       "      <th>3</th>\n",
       "      <td>0.944444</td>\n",
       "      <td>Austria</td>\n",
       "      <td>AT1</td>\n",
       "      <td>0</td>\n",
       "      <td>5.0</td>\n",
       "      <td>7</td>\n",
       "      <td>39</td>\n",
       "      <td>1</td>\n",
       "      <td>1.0</td>\n",
       "    </tr>\n",
       "    <tr>\n",
       "      <th>4</th>\n",
       "      <td>0.500000</td>\n",
       "      <td>Austria</td>\n",
       "      <td>AT1</td>\n",
       "      <td>1</td>\n",
       "      <td>7.0</td>\n",
       "      <td>7</td>\n",
       "      <td>53</td>\n",
       "      <td>1</td>\n",
       "      <td>0.0</td>\n",
       "    </tr>\n",
       "    <tr>\n",
       "      <th>...</th>\n",
       "      <td>...</td>\n",
       "      <td>...</td>\n",
       "      <td>...</td>\n",
       "      <td>...</td>\n",
       "      <td>...</td>\n",
       "      <td>...</td>\n",
       "      <td>...</td>\n",
       "      <td>...</td>\n",
       "      <td>...</td>\n",
       "    </tr>\n",
       "    <tr>\n",
       "      <th>27703</th>\n",
       "      <td>0.055556</td>\n",
       "      <td>Sweden</td>\n",
       "      <td>SE3</td>\n",
       "      <td>0</td>\n",
       "      <td>7.0</td>\n",
       "      <td>1</td>\n",
       "      <td>31</td>\n",
       "      <td>1</td>\n",
       "      <td>0.0</td>\n",
       "    </tr>\n",
       "    <tr>\n",
       "      <th>27704</th>\n",
       "      <td>0.944444</td>\n",
       "      <td>Sweden</td>\n",
       "      <td>SE3</td>\n",
       "      <td>0</td>\n",
       "      <td>5.0</td>\n",
       "      <td>1</td>\n",
       "      <td>28</td>\n",
       "      <td>1</td>\n",
       "      <td>0.0</td>\n",
       "    </tr>\n",
       "    <tr>\n",
       "      <th>27705</th>\n",
       "      <td>0.055556</td>\n",
       "      <td>Sweden</td>\n",
       "      <td>SE3</td>\n",
       "      <td>1</td>\n",
       "      <td>4.0</td>\n",
       "      <td>3</td>\n",
       "      <td>26</td>\n",
       "      <td>1</td>\n",
       "      <td>0.0</td>\n",
       "    </tr>\n",
       "    <tr>\n",
       "      <th>27706</th>\n",
       "      <td>0.500000</td>\n",
       "      <td>Sweden</td>\n",
       "      <td>SE3</td>\n",
       "      <td>1</td>\n",
       "      <td>4.0</td>\n",
       "      <td>1</td>\n",
       "      <td>55</td>\n",
       "      <td>0</td>\n",
       "      <td>0.0</td>\n",
       "    </tr>\n",
       "    <tr>\n",
       "      <th>27707</th>\n",
       "      <td>0.944444</td>\n",
       "      <td>Sweden</td>\n",
       "      <td>SE3</td>\n",
       "      <td>1</td>\n",
       "      <td>7.0</td>\n",
       "      <td>1</td>\n",
       "      <td>61</td>\n",
       "      <td>1</td>\n",
       "      <td>0.0</td>\n",
       "    </tr>\n",
       "  </tbody>\n",
       "</table>\n",
       "<p>27708 rows × 9 columns</p>\n",
       "</div>"
      ],
      "text/plain": [
       "       score_JG country_name_ltn nuts_id  gend  edu  emp  age  urban  \\\n",
       "0      0.351852          Austria     AT1     0  3.0    1   50      1   \n",
       "1      0.055556          Austria     AT1     0  6.0    1   49      1   \n",
       "2      0.500000          Austria     AT1     1  3.0    6   70      0   \n",
       "3      0.944444          Austria     AT1     0  5.0    7   39      1   \n",
       "4      0.500000          Austria     AT1     1  7.0    7   53      1   \n",
       "...         ...              ...     ...   ...  ...  ...  ...    ...   \n",
       "27703  0.055556           Sweden     SE3     0  7.0    1   31      1   \n",
       "27704  0.944444           Sweden     SE3     0  5.0    1   28      1   \n",
       "27705  0.055556           Sweden     SE3     1  4.0    3   26      1   \n",
       "27706  0.500000           Sweden     SE3     1  4.0    1   55      0   \n",
       "27707  0.944444           Sweden     SE3     1  7.0    1   61      1   \n",
       "\n",
       "       ethni_groups  \n",
       "0               0.0  \n",
       "1               0.0  \n",
       "2               1.0  \n",
       "3               1.0  \n",
       "4               0.0  \n",
       "...             ...  \n",
       "27703           0.0  \n",
       "27704           0.0  \n",
       "27705           0.0  \n",
       "27706           0.0  \n",
       "27707           0.0  \n",
       "\n",
       "[27708 rows x 9 columns]"
      ]
     },
     "execution_count": 5,
     "metadata": {},
     "output_type": "execute_result"
    }
   ],
   "source": [
    "df['gend'] = df['gend'].apply(lambda x: 0 if x == 2 else 1)\n",
    "df['urban'] = df['urban'].apply(lambda x: 0 if x == 2 else 1)\n",
    "df"
   ]
  },
  {
   "cell_type": "markdown",
   "metadata": {},
   "source": [
    "now that we have changed the values to one and zeros, we can group the data"
   ]
  },
  {
   "cell_type": "code",
   "execution_count": 6,
   "metadata": {},
   "outputs": [
    {
     "data": {
      "text/html": [
       "<div>\n",
       "<style scoped>\n",
       "    .dataframe tbody tr th:only-of-type {\n",
       "        vertical-align: middle;\n",
       "    }\n",
       "\n",
       "    .dataframe tbody tr th {\n",
       "        vertical-align: top;\n",
       "    }\n",
       "\n",
       "    .dataframe thead th {\n",
       "        text-align: right;\n",
       "    }\n",
       "</style>\n",
       "<table border=\"1\" class=\"dataframe\">\n",
       "  <thead>\n",
       "    <tr style=\"text-align: right;\">\n",
       "      <th></th>\n",
       "      <th>country_name_ltn</th>\n",
       "      <th>nuts_id</th>\n",
       "      <th>score_JG</th>\n",
       "      <th>gend</th>\n",
       "      <th>edu</th>\n",
       "      <th>emp</th>\n",
       "      <th>age</th>\n",
       "      <th>urban</th>\n",
       "      <th>ethni_groups</th>\n",
       "    </tr>\n",
       "  </thead>\n",
       "  <tbody>\n",
       "    <tr>\n",
       "      <th>0</th>\n",
       "      <td>Austria</td>\n",
       "      <td>AT1</td>\n",
       "      <td>0.508514</td>\n",
       "      <td>0.487356</td>\n",
       "      <td>5.448276</td>\n",
       "      <td>4.006897</td>\n",
       "      <td>45.924138</td>\n",
       "      <td>0.719540</td>\n",
       "      <td>0.609195</td>\n",
       "    </tr>\n",
       "    <tr>\n",
       "      <th>1</th>\n",
       "      <td>Austria</td>\n",
       "      <td>AT2</td>\n",
       "      <td>0.501474</td>\n",
       "      <td>0.437811</td>\n",
       "      <td>5.935323</td>\n",
       "      <td>3.888060</td>\n",
       "      <td>46.967662</td>\n",
       "      <td>0.599502</td>\n",
       "      <td>0.567164</td>\n",
       "    </tr>\n",
       "    <tr>\n",
       "      <th>2</th>\n",
       "      <td>Austria</td>\n",
       "      <td>AT3</td>\n",
       "      <td>0.513670</td>\n",
       "      <td>0.436409</td>\n",
       "      <td>5.653367</td>\n",
       "      <td>4.399002</td>\n",
       "      <td>45.386534</td>\n",
       "      <td>0.633416</td>\n",
       "      <td>0.518703</td>\n",
       "    </tr>\n",
       "    <tr>\n",
       "      <th>3</th>\n",
       "      <td>Belgium</td>\n",
       "      <td>BE1</td>\n",
       "      <td>0.541123</td>\n",
       "      <td>0.491103</td>\n",
       "      <td>5.654804</td>\n",
       "      <td>3.932384</td>\n",
       "      <td>42.366548</td>\n",
       "      <td>1.000000</td>\n",
       "      <td>0.473310</td>\n",
       "    </tr>\n",
       "    <tr>\n",
       "      <th>4</th>\n",
       "      <td>Belgium</td>\n",
       "      <td>BE2</td>\n",
       "      <td>0.520055</td>\n",
       "      <td>0.467249</td>\n",
       "      <td>4.393013</td>\n",
       "      <td>5.034934</td>\n",
       "      <td>47.755459</td>\n",
       "      <td>0.930131</td>\n",
       "      <td>0.650655</td>\n",
       "    </tr>\n",
       "    <tr>\n",
       "      <th>...</th>\n",
       "      <td>...</td>\n",
       "      <td>...</td>\n",
       "      <td>...</td>\n",
       "      <td>...</td>\n",
       "      <td>...</td>\n",
       "      <td>...</td>\n",
       "      <td>...</td>\n",
       "      <td>...</td>\n",
       "      <td>...</td>\n",
       "    </tr>\n",
       "    <tr>\n",
       "      <th>102</th>\n",
       "      <td>Spain</td>\n",
       "      <td>ES6</td>\n",
       "      <td>0.499009</td>\n",
       "      <td>0.488294</td>\n",
       "      <td>5.254181</td>\n",
       "      <td>3.735786</td>\n",
       "      <td>48.331104</td>\n",
       "      <td>0.896321</td>\n",
       "      <td>0.000000</td>\n",
       "    </tr>\n",
       "    <tr>\n",
       "      <th>103</th>\n",
       "      <td>Spain</td>\n",
       "      <td>ES7</td>\n",
       "      <td>0.538647</td>\n",
       "      <td>0.431884</td>\n",
       "      <td>5.301449</td>\n",
       "      <td>4.002899</td>\n",
       "      <td>43.707246</td>\n",
       "      <td>0.933333</td>\n",
       "      <td>0.000000</td>\n",
       "    </tr>\n",
       "    <tr>\n",
       "      <th>104</th>\n",
       "      <td>Sweden</td>\n",
       "      <td>SE1</td>\n",
       "      <td>0.510667</td>\n",
       "      <td>0.484000</td>\n",
       "      <td>7.144000</td>\n",
       "      <td>3.368000</td>\n",
       "      <td>42.788000</td>\n",
       "      <td>0.876000</td>\n",
       "      <td>0.000000</td>\n",
       "    </tr>\n",
       "    <tr>\n",
       "      <th>105</th>\n",
       "      <td>Sweden</td>\n",
       "      <td>SE2</td>\n",
       "      <td>0.491972</td>\n",
       "      <td>0.458128</td>\n",
       "      <td>4.975369</td>\n",
       "      <td>4.275862</td>\n",
       "      <td>47.182266</td>\n",
       "      <td>0.679803</td>\n",
       "      <td>0.000000</td>\n",
       "    </tr>\n",
       "    <tr>\n",
       "      <th>106</th>\n",
       "      <td>Sweden</td>\n",
       "      <td>SE3</td>\n",
       "      <td>0.466021</td>\n",
       "      <td>0.509174</td>\n",
       "      <td>5.651376</td>\n",
       "      <td>3.229358</td>\n",
       "      <td>58.000000</td>\n",
       "      <td>0.591743</td>\n",
       "      <td>0.000000</td>\n",
       "    </tr>\n",
       "  </tbody>\n",
       "</table>\n",
       "<p>107 rows × 9 columns</p>\n",
       "</div>"
      ],
      "text/plain": [
       "    country_name_ltn nuts_id  score_JG      gend       edu       emp  \\\n",
       "0            Austria     AT1  0.508514  0.487356  5.448276  4.006897   \n",
       "1            Austria     AT2  0.501474  0.437811  5.935323  3.888060   \n",
       "2            Austria     AT3  0.513670  0.436409  5.653367  4.399002   \n",
       "3            Belgium     BE1  0.541123  0.491103  5.654804  3.932384   \n",
       "4            Belgium     BE2  0.520055  0.467249  4.393013  5.034934   \n",
       "..               ...     ...       ...       ...       ...       ...   \n",
       "102            Spain     ES6  0.499009  0.488294  5.254181  3.735786   \n",
       "103            Spain     ES7  0.538647  0.431884  5.301449  4.002899   \n",
       "104           Sweden     SE1  0.510667  0.484000  7.144000  3.368000   \n",
       "105           Sweden     SE2  0.491972  0.458128  4.975369  4.275862   \n",
       "106           Sweden     SE3  0.466021  0.509174  5.651376  3.229358   \n",
       "\n",
       "           age     urban  ethni_groups  \n",
       "0    45.924138  0.719540      0.609195  \n",
       "1    46.967662  0.599502      0.567164  \n",
       "2    45.386534  0.633416      0.518703  \n",
       "3    42.366548  1.000000      0.473310  \n",
       "4    47.755459  0.930131      0.650655  \n",
       "..         ...       ...           ...  \n",
       "102  48.331104  0.896321      0.000000  \n",
       "103  43.707246  0.933333      0.000000  \n",
       "104  42.788000  0.876000      0.000000  \n",
       "105  47.182266  0.679803      0.000000  \n",
       "106  58.000000  0.591743      0.000000  \n",
       "\n",
       "[107 rows x 9 columns]"
      ]
     },
     "execution_count": 6,
     "metadata": {},
     "output_type": "execute_result"
    }
   ],
   "source": [
    "df_grouped = df.groupby(['country_name_ltn','nuts_id']).mean().reset_index()\n",
    "df_grouped\n"
   ]
  },
  {
   "cell_type": "markdown",
   "metadata": {},
   "source": [
    "let's look at the distribution now"
   ]
  },
  {
   "cell_type": "code",
   "execution_count": 7,
   "metadata": {},
   "outputs": [
    {
     "data": {
      "text/plain": [
       "<Axes: ylabel='Density'>"
      ]
     },
     "execution_count": 7,
     "metadata": {},
     "output_type": "execute_result"
    },
    {
     "data": {
      "image/png": "[encoded data removed]",
      "text/plain": [
       "<Figure size 432x288 with 1 Axes>"
      ]
     },
     "metadata": {
      "needs_background": "light"
     },
     "output_type": "display_data"
    }
   ],
   "source": [
    "df_grouped.score_JG.plot(kind = 'kde')"
   ]
  },
  {
   "cell_type": "markdown",
   "metadata": {},
   "source": [
    "Now that we have noticed the disrtibution is slightly closer to normal, let's apply a log transformationa and see if it is sufficient "
   ]
  },
  {
   "cell_type": "code",
   "execution_count": 8,
   "metadata": {},
   "outputs": [
    {
     "data": {
      "text/plain": [
       "<Axes: ylabel='Density'>"
      ]
     },
     "execution_count": 8,
     "metadata": {},
     "output_type": "execute_result"
    },
    {
     "data": {
      "image/png": "[encoded data removed]",
      "text/plain": [
       "<Figure size 432x288 with 1 Axes>"
      ]
     },
     "metadata": {
      "needs_background": "light"
     },
     "output_type": "display_data"
    }
   ],
   "source": [
    "X= logit(df_grouped.score_JG)\n",
    "X.plot(kind='kde')"
   ]
  },
  {
   "cell_type": "markdown",
   "metadata": {},
   "source": [
    "Let's have a look at our Yi's and see if there is anything to worry about"
   ]
  },
  {
   "cell_type": "code",
   "execution_count": 9,
   "metadata": {},
   "outputs": [
    {
     "data": {
      "text/html": [
       "<div>\n",
       "<style scoped>\n",
       "    .dataframe tbody tr th:only-of-type {\n",
       "        vertical-align: middle;\n",
       "    }\n",
       "\n",
       "    .dataframe tbody tr th {\n",
       "        vertical-align: top;\n",
       "    }\n",
       "\n",
       "    .dataframe thead th {\n",
       "        text-align: right;\n",
       "    }\n",
       "</style>\n",
       "<table border=\"1\" class=\"dataframe\">\n",
       "  <thead>\n",
       "    <tr style=\"text-align: right;\">\n",
       "      <th></th>\n",
       "      <th>gend</th>\n",
       "      <th>edu</th>\n",
       "      <th>emp</th>\n",
       "      <th>age</th>\n",
       "      <th>urban</th>\n",
       "      <th>ethni_groups</th>\n",
       "    </tr>\n",
       "  </thead>\n",
       "  <tbody>\n",
       "    <tr>\n",
       "      <th>0</th>\n",
       "      <td>0.487356</td>\n",
       "      <td>5.448276</td>\n",
       "      <td>4.006897</td>\n",
       "      <td>45.924138</td>\n",
       "      <td>0.719540</td>\n",
       "      <td>0.609195</td>\n",
       "    </tr>\n",
       "    <tr>\n",
       "      <th>1</th>\n",
       "      <td>0.437811</td>\n",
       "      <td>5.935323</td>\n",
       "      <td>3.888060</td>\n",
       "      <td>46.967662</td>\n",
       "      <td>0.599502</td>\n",
       "      <td>0.567164</td>\n",
       "    </tr>\n",
       "    <tr>\n",
       "      <th>2</th>\n",
       "      <td>0.436409</td>\n",
       "      <td>5.653367</td>\n",
       "      <td>4.399002</td>\n",
       "      <td>45.386534</td>\n",
       "      <td>0.633416</td>\n",
       "      <td>0.518703</td>\n",
       "    </tr>\n",
       "    <tr>\n",
       "      <th>3</th>\n",
       "      <td>0.491103</td>\n",
       "      <td>5.654804</td>\n",
       "      <td>3.932384</td>\n",
       "      <td>42.366548</td>\n",
       "      <td>1.000000</td>\n",
       "      <td>0.473310</td>\n",
       "    </tr>\n",
       "    <tr>\n",
       "      <th>4</th>\n",
       "      <td>0.467249</td>\n",
       "      <td>4.393013</td>\n",
       "      <td>5.034934</td>\n",
       "      <td>47.755459</td>\n",
       "      <td>0.930131</td>\n",
       "      <td>0.650655</td>\n",
       "    </tr>\n",
       "    <tr>\n",
       "      <th>...</th>\n",
       "      <td>...</td>\n",
       "      <td>...</td>\n",
       "      <td>...</td>\n",
       "      <td>...</td>\n",
       "      <td>...</td>\n",
       "      <td>...</td>\n",
       "    </tr>\n",
       "    <tr>\n",
       "      <th>102</th>\n",
       "      <td>0.488294</td>\n",
       "      <td>5.254181</td>\n",
       "      <td>3.735786</td>\n",
       "      <td>48.331104</td>\n",
       "      <td>0.896321</td>\n",
       "      <td>0.000000</td>\n",
       "    </tr>\n",
       "    <tr>\n",
       "      <th>103</th>\n",
       "      <td>0.431884</td>\n",
       "      <td>5.301449</td>\n",
       "      <td>4.002899</td>\n",
       "      <td>43.707246</td>\n",
       "      <td>0.933333</td>\n",
       "      <td>0.000000</td>\n",
       "    </tr>\n",
       "    <tr>\n",
       "      <th>104</th>\n",
       "      <td>0.484000</td>\n",
       "      <td>7.144000</td>\n",
       "      <td>3.368000</td>\n",
       "      <td>42.788000</td>\n",
       "      <td>0.876000</td>\n",
       "      <td>0.000000</td>\n",
       "    </tr>\n",
       "    <tr>\n",
       "      <th>105</th>\n",
       "      <td>0.458128</td>\n",
       "      <td>4.975369</td>\n",
       "      <td>4.275862</td>\n",
       "      <td>47.182266</td>\n",
       "      <td>0.679803</td>\n",
       "      <td>0.000000</td>\n",
       "    </tr>\n",
       "    <tr>\n",
       "      <th>106</th>\n",
       "      <td>0.509174</td>\n",
       "      <td>5.651376</td>\n",
       "      <td>3.229358</td>\n",
       "      <td>58.000000</td>\n",
       "      <td>0.591743</td>\n",
       "      <td>0.000000</td>\n",
       "    </tr>\n",
       "  </tbody>\n",
       "</table>\n",
       "<p>107 rows × 6 columns</p>\n",
       "</div>"
      ],
      "text/plain": [
       "         gend       edu       emp        age     urban  ethni_groups\n",
       "0    0.487356  5.448276  4.006897  45.924138  0.719540      0.609195\n",
       "1    0.437811  5.935323  3.888060  46.967662  0.599502      0.567164\n",
       "2    0.436409  5.653367  4.399002  45.386534  0.633416      0.518703\n",
       "3    0.491103  5.654804  3.932384  42.366548  1.000000      0.473310\n",
       "4    0.467249  4.393013  5.034934  47.755459  0.930131      0.650655\n",
       "..        ...       ...       ...        ...       ...           ...\n",
       "102  0.488294  5.254181  3.735786  48.331104  0.896321      0.000000\n",
       "103  0.431884  5.301449  4.002899  43.707246  0.933333      0.000000\n",
       "104  0.484000  7.144000  3.368000  42.788000  0.876000      0.000000\n",
       "105  0.458128  4.975369  4.275862  47.182266  0.679803      0.000000\n",
       "106  0.509174  5.651376  3.229358  58.000000  0.591743      0.000000\n",
       "\n",
       "[107 rows x 6 columns]"
      ]
     },
     "execution_count": 9,
     "metadata": {},
     "output_type": "execute_result"
    }
   ],
   "source": [
    "Y = df_grouped[[\"gend\",\"edu\",\"emp\",\"age\",\"urban\",\"ethni_groups\"]]\n",
    "Y"
   ]
  },
  {
   "cell_type": "code",
   "execution_count": 10,
   "metadata": {},
   "outputs": [
    {
     "data": {
      "text/plain": [
       "<Axes: >"
      ]
     },
     "execution_count": 10,
     "metadata": {},
     "output_type": "execute_result"
    },
    {
     "data": {
      "image/png": "[encoded data removed]",
      "text/plain": [
       "<Figure size 432x288 with 2 Axes>"
      ]
     },
     "metadata": {
      "needs_background": "light"
     },
     "output_type": "display_data"
    }
   ],
   "source": [
    "sns.heatmap(Y.corr(),annot=True)"
   ]
  },
  {
   "cell_type": "markdown",
   "metadata": {},
   "source": [
    "It looks good, we are not too concerned about autocorlation at this point. we will have a look at our results and check again "
   ]
  },
  {
   "cell_type": "code",
   "execution_count": 11,
   "metadata": {},
   "outputs": [],
   "source": [
    "Y_train,Y_test,X_train, X_test,  = train_test_split(X,Y,test_size=0.5)"
   ]
  },
  {
   "cell_type": "markdown",
   "metadata": {},
   "source": [
    "Let's define our prior parameters"
   ]
  },
  {
   "cell_type": "code",
   "execution_count": 12,
   "metadata": {},
   "outputs": [],
   "source": [
    "p = X_train.shape[1]\n",
    "n = X_train.shape[0]\n",
    "beta_0 = np.zeros(p)  \n",
    "V_0 = np.eye(p) * 10  \n",
    "a_0, b_0 = 2, 2  "
   ]
  },
  {
   "cell_type": "markdown",
   "metadata": {},
   "source": [
    "let's do our posterior now"
   ]
  },
  {
   "cell_type": "code",
   "execution_count": 13,
   "metadata": {},
   "outputs": [],
   "source": [
    "V_n = np.linalg.inv(X_train.T @ X_train + np.linalg.inv(V_0))\n",
    "beta_n = V_n @ (X_train.T @ Y_train + np.linalg.inv(V_0) @ beta_0)\n",
    "a_n = a_0 + n / 2\n",
    "b_n = b_0 + 0.5 * ((Y_train - X_train @ beta_n).T @ (Y_train - X_train @ beta_n))"
   ]
  },
  {
   "cell_type": "markdown",
   "metadata": {},
   "source": [
    "#### Bayesian Logit Normal Inference\n",
    "We assume that the logit transformation of our response, \n",
    "$$z_i = \\log\\left(\\frac{y_i}{1-y_i}\\right)$$\n",
    "is modeled as\n",
    "$$z_i \\sim \\mathcal{N}(X_i\\beta,\\,\\sigma^2)$$\n",
    "This means that the likelihood is\n",
    "$$L(\\beta,\\sigma^2\\mid z) \\propto (2\\pi\\sigma^2)^{-n/2}\\exp\\!\\Bigl\\{-\\frac{1}{2\\sigma^2}(z-X\\beta)^\\top(z-X\\beta)\\Bigr\\}$$\n",
    "Using Jeffrey's prior, we have:\n",
    "$$\\pi(\\beta,\\sigma^2) \\propto \\frac{1}{\\sigma^{p+2}}$$\n",
    "Which leads (after some algebra) to closed form conditionals:\n",
    "- Conditional for $\\beta$ given $\\sigma^2$:\n",
    "$$\\beta\\mid\\sigma^2,z \\sim \\mathcal{N}\\Bigl(\\hat{\\beta},\\,\\sigma^2 (X^\\top X)^{-1}\\Bigr)$$\n",
    "with $\\hat{\\beta} = (X^\\top X)^{-1}X^\\top z$.\n",
    "\n",
    "- Conditional for $\\sigma^2$ given $\\beta$:\n",
    "$$\\sigma^2\\mid\\beta,z \\sim \\text{Inverse-Gamma}\\Bigl(\\frac{n}{2},\\,\\frac{\\text{SSE}}{2}\\Bigr)$$\n",
    "where $\\text{SSE} = (z-X\\beta)^\\top(z-X\\beta)$\n"
   ]
  },
  {
   "cell_type": "markdown",
   "metadata": {},
   "source": [
    "Sampling from our posterior and examine our predictive distribution"
   ]
  },
  {
   "cell_type": "code",
   "execution_count": 14,
   "metadata": {},
   "outputs": [],
   "source": [
    "sigma2_sample = invgamma.rvs(a_n, scale=b_n, size=1)\n",
    "beta_sample = multivariate_normal.rvs(beta_n, V_n)\n",
    "X_new = np.random.randn(1, p)\n",
    "mu_pred = X_new @ beta_sample\n",
    "y_pred = 1 / (1 + np.exp(-np.random.normal(mu_pred, np.sqrt(sigma2_sample))))"
   ]
  }
 ],
 "metadata": {
  "kernelspec": {
   "display_name": ".venv",
   "language": "python",
   "name": "python3"
  },
  "language_info": {
   "codemirror_mode": {
    "name": "ipython",
    "version": 3
   },
   "file_extension": ".py",
   "mimetype": "text/x-python",
   "name": "python",
   "nbconvert_exporter": "python",
   "pygments_lexer": "ipython3",
   "version": "3.9.6"
  }
 },
 "nbformat": 4,
 "nbformat_minor": 2
}
