{
 "cells": [
  {
   "cell_type": "markdown",
   "metadata": {},
   "source": [
    "#### Bayesian Logit Normal Inference\n",
    "We assume that the logit transformation of our response, \n",
    "$$z_i = \\log\\left(\\frac{y_i}{1-y_i}\\right)$$\n",
    "is modeled as\n",
    "$$z_i \\sim \\mathcal{N}(X_i\\beta,\\,\\sigma^2)$$\n",
    "This means that the likelihood is\n",
    "$$L(\\beta,\\sigma^2\\mid z) \\propto (2\\pi\\sigma^2)^{-n/2}\\exp\\!\\Bigl\\{-\\frac{1}{2\\sigma^2}(z-X\\beta)^\\top(z-X\\beta)\\Bigr\\}$$\n",
    "Using Jeffrey's prior, we have:\n",
    "$$\\pi(\\beta,\\sigma^2) \\propto \\frac{1}{\\sigma^{p+2}}$$\n",
    "Which leads (after some algebra) to closed form conditionals:\n",
    "- Conditional for $\\beta$ given $\\sigma^2$:\n",
    "$$\\beta\\mid\\sigma^2,z \\sim \\mathcal{N}\\Bigl(\\hat{\\beta},\\,\\sigma^2 (X^\\top X)^{-1}\\Bigr)$$\n",
    "with $\\hat{\\beta} = (X^\\top X)^{-1}X^\\top z$.\n",
    "\n",
    "- Conditional for $\\sigma^2$ given $\\beta$:\n",
    "$$\\sigma^2\\mid\\beta,z \\sim \\text{Inverse-Gamma}\\Bigl(\\frac{n}{2},\\,\\frac{\\text{SSE}}{2}\\Bigr)$$\n",
    "where $\\text{SSE} = (z-X\\beta)^\\top(z-X\\beta)$"
   ]
  },
  {
   "cell_type": "code",
   "execution_count": 795,
   "metadata": {},
   "outputs": [
    {
     "data": {
      "application/vnd.microsoft.datawrangler.viewer.v0+json": {
       "columns": [
        {
         "name": "index",
         "rawType": "int64",
         "type": "integer"
        },
        {
         "name": "score_JG",
         "rawType": "float64",
         "type": "float"
        },
        {
         "name": "country_name_ltn",
         "rawType": "object",
         "type": "string"
        },
        {
         "name": "nuts_id",
         "rawType": "object",
         "type": "string"
        },
        {
         "name": "gend",
         "rawType": "int64",
         "type": "integer"
        },
        {
         "name": "edu",
         "rawType": "float64",
         "type": "float"
        },
        {
         "name": "emp",
         "rawType": "int64",
         "type": "integer"
        },
        {
         "name": "age",
         "rawType": "int64",
         "type": "integer"
        },
        {
         "name": "urban",
         "rawType": "int64",
         "type": "integer"
        },
        {
         "name": "ethni_groups",
         "rawType": "float64",
         "type": "float"
        }
       ],
       "conversionMethod": "pd.DataFrame",
       "ref": "766f7134-2588-471b-8c8f-212c21ea6a3a",
       "rows": [
        [
         "0",
         "0.3518518518518518",
         "Austria",
         "AT1",
         "2",
         "3.0",
         "1",
         "50",
         "1",
         "0.0"
        ],
        [
         "1",
         "0.0555555555555555",
         "Austria",
         "AT1",
         "2",
         "6.0",
         "1",
         "49",
         "1",
         "0.0"
        ],
        [
         "2",
         "0.5",
         "Austria",
         "AT1",
         "1",
         "3.0",
         "6",
         "70",
         "2",
         "1.0"
        ],
        [
         "3",
         "0.9444444444444444",
         "Austria",
         "AT1",
         "2",
         "5.0",
         "7",
         "39",
         "1",
         "1.0"
        ],
        [
         "4",
         "0.5",
         "Austria",
         "AT1",
         "1",
         "7.0",
         "7",
         "53",
         "1",
         "0.0"
        ],
        [
         "5",
         "0.9444444444444444",
         "Austria",
         "AT1",
         "2",
         "4.0",
         "1",
         "23",
         "2",
         "1.0"
        ],
        [
         "6",
         "0.5",
         "Austria",
         "AT1",
         "1",
         "7.0",
         "99",
         "48",
         "1",
         "0.0"
        ],
        [
         "7",
         "0.0555555555555555",
         "Austria",
         "AT1",
         "1",
         "7.0",
         "6",
         "76",
         "1",
         "1.0"
        ],
        [
         "8",
         "0.0555555555555555",
         "Austria",
         "AT1",
         "2",
         "7.0",
         "5",
         "40",
         "2",
         "1.0"
        ],
        [
         "9",
         "0.0555555555555555",
         "Austria",
         "AT1",
         "1",
         "7.0",
         "1",
         "53",
         "1",
         "1.0"
        ],
        [
         "10",
         "0.6481481481481481",
         "Austria",
         "AT1",
         "1",
         "6.0",
         "1",
         "39",
         "1",
         "0.0"
        ],
        [
         "11",
         "0.9444444444444444",
         "Austria",
         "AT1",
         "1",
         "7.0",
         "4",
         "37",
         "1",
         "1.0"
        ],
        [
         "12",
         "0.9444444444444444",
         "Austria",
         "AT1",
         "1",
         "7.0",
         "6",
         "68",
         "1",
         "0.0"
        ],
        [
         "13",
         "0.0555555555555555",
         "Austria",
         "AT1",
         "2",
         "7.0",
         "6",
         "73",
         "1",
         "0.0"
        ],
        [
         "14",
         "0.5",
         "Austria",
         "AT1",
         "2",
         "7.0",
         "1",
         "24",
         "1",
         "0.0"
        ],
        [
         "15",
         "0.0555555555555555",
         "Austria",
         "AT1",
         "2",
         "3.0",
         "1",
         "42",
         "2",
         "1.0"
        ],
        [
         "16",
         "0.0555555555555555",
         "Austria",
         "AT1",
         "2",
         "7.0",
         "5",
         "32",
         "2",
         "0.0"
        ],
        [
         "17",
         "0.9444444444444444",
         "Austria",
         "AT1",
         "2",
         "6.0",
         "1",
         "34",
         "1",
         "0.0"
        ],
        [
         "18",
         "0.5",
         "Austria",
         "AT1",
         "2",
         "6.0",
         "1",
         "48",
         "1",
         "0.0"
        ],
        [
         "19",
         "0.5",
         "Austria",
         "AT1",
         "2",
         "6.0",
         "1",
         "29",
         "1",
         "1.0"
        ],
        [
         "20",
         "0.6481481481481481",
         "Austria",
         "AT1",
         "1",
         "4.0",
         "1",
         "39",
         "1",
         "0.0"
        ],
        [
         "21",
         "0.5",
         "Austria",
         "AT1",
         "2",
         "4.0",
         "1",
         "52",
         "1",
         "1.0"
        ],
        [
         "22",
         "0.5",
         "Austria",
         "AT1",
         "2",
         "3.0",
         "1",
         "54",
         "1",
         "1.0"
        ],
        [
         "23",
         "0.9444444444444444",
         "Austria",
         "AT1",
         "1",
         "4.0",
         "1",
         "50",
         "1",
         "1.0"
        ],
        [
         "24",
         "0.9444444444444444",
         "Austria",
         "AT1",
         "2",
         "4.0",
         "6",
         "71",
         "1",
         "1.0"
        ],
        [
         "25",
         "0.6481481481481481",
         "Austria",
         "AT1",
         "1",
         "3.0",
         "1",
         "52",
         "1",
         "0.0"
        ],
        [
         "26",
         "0.3518518518518518",
         "Austria",
         "AT1",
         "1",
         "6.0",
         "5",
         "59",
         "1",
         "1.0"
        ],
        [
         "27",
         "0.9444444444444444",
         "Austria",
         "AT1",
         "1",
         "7.0",
         "1",
         "55",
         "1",
         "1.0"
        ],
        [
         "28",
         "0.0555555555555555",
         "Austria",
         "AT1",
         "1",
         "3.0",
         "1",
         "60",
         "1",
         "1.0"
        ],
        [
         "29",
         "0.5",
         "Austria",
         "AT1",
         "2",
         "6.0",
         "4",
         "46",
         "1",
         "1.0"
        ],
        [
         "30",
         "0.0555555555555555",
         "Austria",
         "AT1",
         "1",
         "4.0",
         "1",
         "49",
         "2",
         "1.0"
        ],
        [
         "31",
         "0.3518518518518518",
         "Austria",
         "AT1",
         "2",
         "7.0",
         "6",
         "63",
         "2",
         "0.0"
        ],
        [
         "32",
         "0.9444444444444444",
         "Austria",
         "AT1",
         "1",
         "6.0",
         "1",
         "47",
         "1",
         "0.0"
        ],
        [
         "33",
         "0.9444444444444444",
         "Austria",
         "AT1",
         "1",
         "4.0",
         "6",
         "62",
         "1",
         "1.0"
        ],
        [
         "34",
         "0.6481481481481481",
         "Austria",
         "AT1",
         "2",
         "4.0",
         "1",
         "26",
         "2",
         "0.0"
        ],
        [
         "35",
         "0.5",
         "Austria",
         "AT1",
         "1",
         "4.0",
         "6",
         "63",
         "1",
         "1.0"
        ],
        [
         "36",
         "0.9444444444444444",
         "Austria",
         "AT1",
         "1",
         "4.0",
         "1",
         "40",
         "2",
         "1.0"
        ],
        [
         "37",
         "0.0555555555555555",
         "Austria",
         "AT1",
         "2",
         "4.0",
         "99",
         "32",
         "1",
         "1.0"
        ],
        [
         "38",
         "0.3518518518518518",
         "Austria",
         "AT1",
         "1",
         "4.0",
         "1",
         "45",
         "1",
         "1.0"
        ],
        [
         "39",
         "0.9444444444444444",
         "Austria",
         "AT1",
         "1",
         "6.0",
         "4",
         "53",
         "1",
         "0.0"
        ],
        [
         "40",
         "0.0555555555555555",
         "Austria",
         "AT1",
         "2",
         "4.0",
         "1",
         "33",
         "1",
         "1.0"
        ],
        [
         "41",
         "0.0555555555555555",
         "Austria",
         "AT1",
         "2",
         "4.0",
         "4",
         "21",
         "1",
         "0.0"
        ],
        [
         "42",
         "0.0555555555555555",
         "Austria",
         "AT1",
         "2",
         "4.0",
         "1",
         "58",
         "2",
         "0.0"
        ],
        [
         "43",
         "0.6481481481481481",
         "Austria",
         "AT1",
         "2",
         "4.0",
         "6",
         "66",
         "2",
         "1.0"
        ],
        [
         "44",
         "0.9444444444444444",
         "Austria",
         "AT1",
         "2",
         "3.0",
         "6",
         "64",
         "1",
         "1.0"
        ],
        [
         "45",
         "0.5",
         "Austria",
         "AT1",
         "1",
         "7.0",
         "1",
         "63",
         "2",
         "1.0"
        ],
        [
         "46",
         "0.5",
         "Austria",
         "AT1",
         "2",
         "4.0",
         "1",
         "44",
         "1",
         "0.0"
        ],
        [
         "47",
         "0.5",
         "Austria",
         "AT1",
         "2",
         "7.0",
         "5",
         "59",
         "1",
         "1.0"
        ],
        [
         "48",
         "0.9444444444444444",
         "Austria",
         "AT1",
         "1",
         "4.0",
         "6",
         "67",
         "1",
         "1.0"
        ],
        [
         "49",
         "0.9444444444444444",
         "Austria",
         "AT1",
         "2",
         "4.0",
         "5",
         "42",
         "2",
         "0.0"
        ]
       ],
       "shape": {
        "columns": 9,
        "rows": 27708
       }
      },
      "text/html": [
       "<div>\n",
       "<style scoped>\n",
       "    .dataframe tbody tr th:only-of-type {\n",
       "        vertical-align: middle;\n",
       "    }\n",
       "\n",
       "    .dataframe tbody tr th {\n",
       "        vertical-align: top;\n",
       "    }\n",
       "\n",
       "    .dataframe thead th {\n",
       "        text-align: right;\n",
       "    }\n",
       "</style>\n",
       "<table border=\"1\" class=\"dataframe\">\n",
       "  <thead>\n",
       "    <tr style=\"text-align: right;\">\n",
       "      <th></th>\n",
       "      <th>score_JG</th>\n",
       "      <th>country_name_ltn</th>\n",
       "      <th>nuts_id</th>\n",
       "      <th>gend</th>\n",
       "      <th>edu</th>\n",
       "      <th>emp</th>\n",
       "      <th>age</th>\n",
       "      <th>urban</th>\n",
       "      <th>ethni_groups</th>\n",
       "    </tr>\n",
       "  </thead>\n",
       "  <tbody>\n",
       "    <tr>\n",
       "      <th>0</th>\n",
       "      <td>0.351852</td>\n",
       "      <td>Austria</td>\n",
       "      <td>AT1</td>\n",
       "      <td>2</td>\n",
       "      <td>3.0</td>\n",
       "      <td>1</td>\n",
       "      <td>50</td>\n",
       "      <td>1</td>\n",
       "      <td>0.0</td>\n",
       "    </tr>\n",
       "    <tr>\n",
       "      <th>1</th>\n",
       "      <td>0.055556</td>\n",
       "      <td>Austria</td>\n",
       "      <td>AT1</td>\n",
       "      <td>2</td>\n",
       "      <td>6.0</td>\n",
       "      <td>1</td>\n",
       "      <td>49</td>\n",
       "      <td>1</td>\n",
       "      <td>0.0</td>\n",
       "    </tr>\n",
       "    <tr>\n",
       "      <th>2</th>\n",
       "      <td>0.500000</td>\n",
       "      <td>Austria</td>\n",
       "      <td>AT1</td>\n",
       "      <td>1</td>\n",
       "      <td>3.0</td>\n",
       "      <td>6</td>\n",
       "      <td>70</td>\n",
       "      <td>2</td>\n",
       "      <td>1.0</td>\n",
       "    </tr>\n",
       "    <tr>\n",
       "      <th>3</th>\n",
       "      <td>0.944444</td>\n",
       "      <td>Austria</td>\n",
       "      <td>AT1</td>\n",
       "      <td>2</td>\n",
       "      <td>5.0</td>\n",
       "      <td>7</td>\n",
       "      <td>39</td>\n",
       "      <td>1</td>\n",
       "      <td>1.0</td>\n",
       "    </tr>\n",
       "    <tr>\n",
       "      <th>4</th>\n",
       "      <td>0.500000</td>\n",
       "      <td>Austria</td>\n",
       "      <td>AT1</td>\n",
       "      <td>1</td>\n",
       "      <td>7.0</td>\n",
       "      <td>7</td>\n",
       "      <td>53</td>\n",
       "      <td>1</td>\n",
       "      <td>0.0</td>\n",
       "    </tr>\n",
       "    <tr>\n",
       "      <th>...</th>\n",
       "      <td>...</td>\n",
       "      <td>...</td>\n",
       "      <td>...</td>\n",
       "      <td>...</td>\n",
       "      <td>...</td>\n",
       "      <td>...</td>\n",
       "      <td>...</td>\n",
       "      <td>...</td>\n",
       "      <td>...</td>\n",
       "    </tr>\n",
       "    <tr>\n",
       "      <th>27703</th>\n",
       "      <td>0.055556</td>\n",
       "      <td>Sweden</td>\n",
       "      <td>SE3</td>\n",
       "      <td>2</td>\n",
       "      <td>7.0</td>\n",
       "      <td>1</td>\n",
       "      <td>31</td>\n",
       "      <td>1</td>\n",
       "      <td>0.0</td>\n",
       "    </tr>\n",
       "    <tr>\n",
       "      <th>27704</th>\n",
       "      <td>0.944444</td>\n",
       "      <td>Sweden</td>\n",
       "      <td>SE3</td>\n",
       "      <td>2</td>\n",
       "      <td>5.0</td>\n",
       "      <td>1</td>\n",
       "      <td>28</td>\n",
       "      <td>1</td>\n",
       "      <td>0.0</td>\n",
       "    </tr>\n",
       "    <tr>\n",
       "      <th>27705</th>\n",
       "      <td>0.055556</td>\n",
       "      <td>Sweden</td>\n",
       "      <td>SE3</td>\n",
       "      <td>1</td>\n",
       "      <td>4.0</td>\n",
       "      <td>3</td>\n",
       "      <td>26</td>\n",
       "      <td>1</td>\n",
       "      <td>0.0</td>\n",
       "    </tr>\n",
       "    <tr>\n",
       "      <th>27706</th>\n",
       "      <td>0.500000</td>\n",
       "      <td>Sweden</td>\n",
       "      <td>SE3</td>\n",
       "      <td>1</td>\n",
       "      <td>4.0</td>\n",
       "      <td>1</td>\n",
       "      <td>55</td>\n",
       "      <td>2</td>\n",
       "      <td>0.0</td>\n",
       "    </tr>\n",
       "    <tr>\n",
       "      <th>27707</th>\n",
       "      <td>0.944444</td>\n",
       "      <td>Sweden</td>\n",
       "      <td>SE3</td>\n",
       "      <td>1</td>\n",
       "      <td>7.0</td>\n",
       "      <td>1</td>\n",
       "      <td>61</td>\n",
       "      <td>1</td>\n",
       "      <td>0.0</td>\n",
       "    </tr>\n",
       "  </tbody>\n",
       "</table>\n",
       "<p>27708 rows × 9 columns</p>\n",
       "</div>"
      ],
      "text/plain": [
       "       score_JG country_name_ltn nuts_id  gend  edu  emp  age  urban  \\\n",
       "0      0.351852          Austria     AT1     2  3.0    1   50      1   \n",
       "1      0.055556          Austria     AT1     2  6.0    1   49      1   \n",
       "2      0.500000          Austria     AT1     1  3.0    6   70      2   \n",
       "3      0.944444          Austria     AT1     2  5.0    7   39      1   \n",
       "4      0.500000          Austria     AT1     1  7.0    7   53      1   \n",
       "...         ...              ...     ...   ...  ...  ...  ...    ...   \n",
       "27703  0.055556           Sweden     SE3     2  7.0    1   31      1   \n",
       "27704  0.944444           Sweden     SE3     2  5.0    1   28      1   \n",
       "27705  0.055556           Sweden     SE3     1  4.0    3   26      1   \n",
       "27706  0.500000           Sweden     SE3     1  4.0    1   55      2   \n",
       "27707  0.944444           Sweden     SE3     1  7.0    1   61      1   \n",
       "\n",
       "       ethni_groups  \n",
       "0               0.0  \n",
       "1               0.0  \n",
       "2               1.0  \n",
       "3               1.0  \n",
       "4               0.0  \n",
       "...             ...  \n",
       "27703           0.0  \n",
       "27704           0.0  \n",
       "27705           0.0  \n",
       "27706           0.0  \n",
       "27707           0.0  \n",
       "\n",
       "[27708 rows x 9 columns]"
      ]
     },
     "execution_count": 795,
     "metadata": {},
     "output_type": "execute_result"
    }
   ],
   "source": [
    "import pandas as pd\n",
    "import numpy as np\n",
    "import seaborn as sns\n",
    "from scipy.special import logit\n",
    "from sklearn.model_selection import train_test_split\n",
    "import numpy as np\n",
    "from scipy.stats import invgamma, multivariate_normal,multivariate_t\n",
    "import matplotlib.pyplot as plt\n",
    "df = pd.read_csv('/Users/alexkoutromanos/Documents/GitHub/Bayesian-Logit-Normal-Reg/justice_score.csv', encoding='ISO-8859-1')\n",
    "df\n"
   ]
  },
  {
   "cell_type": "code",
   "execution_count": 796,
   "metadata": {},
   "outputs": [
    {
     "data": {
      "text/plain": [
       "Index(['score_JG', 'country_name_ltn', 'nuts_id', 'gend', 'edu', 'emp', 'age',\n",
       "       'urban', 'ethni_groups'],\n",
       "      dtype='object')"
      ]
     },
     "execution_count": 796,
     "metadata": {},
     "output_type": "execute_result"
    }
   ],
   "source": [
    "df.columns"
   ]
  },
  {
   "cell_type": "code",
   "execution_count": 797,
   "metadata": {},
   "outputs": [],
   "source": [
    "df = df.loc[\n",
    "    (df['gend'] != 98) & (df['gend'] != 99) & (df['gend'] != 4) & (df['gend'] != 3) &\n",
    "    (df['edu']  != 98) & (df['edu']  != 99) &\n",
    "    (df['emp']  != 98) & (df['emp']  != 99) &\n",
    "    (df['age']  != 98) & (df['age']  != 99) &\n",
    "    (df['urban']!= 98) & (df['urban']!= 99)\n",
    " ]\n",
    "\n",
    "df = df.dropna(subset = ['country_name_ltn', 'nuts_id', 'gend', 'edu', 'emp', 'age',\n",
    "       'urban', 'ethni_groups'])"
   ]
  },
  {
   "cell_type": "code",
   "execution_count": 798,
   "metadata": {},
   "outputs": [
    {
     "data": {
      "text/plain": [
       "<Axes: ylabel='Density'>"
      ]
     },
     "execution_count": 798,
     "metadata": {},
     "output_type": "execute_result"
    },
    {
     "data": {
      "image/png": "[encoded data removed]",
      "text/plain": [
       "<Figure size 432x288 with 1 Axes>"
      ]
     },
     "metadata": {
      "needs_background": "light"
     },
     "output_type": "display_data"
    }
   ],
   "source": [
    "df['score_JG'].plot(kind= 'kde')"
   ]
  },
  {
   "cell_type": "code",
   "execution_count": 799,
   "metadata": {},
   "outputs": [
    {
     "data": {
      "text/plain": [
       "<Axes: ylabel='Density'>"
      ]
     },
     "execution_count": 799,
     "metadata": {},
     "output_type": "execute_result"
    },
    {
     "data": {
      "image/png": "[encoded data removed]",
      "text/plain": [
       "<Figure size 432x288 with 1 Axes>"
      ]
     },
     "metadata": {
      "needs_background": "light"
     },
     "output_type": "display_data"
    }
   ],
   "source": [
    "log_score = logit(df['score_JG'])\n",
    "log_score.plot(kind='kde')"
   ]
  },
  {
   "cell_type": "code",
   "execution_count": 800,
   "metadata": {},
   "outputs": [
    {
     "data": {
      "application/vnd.microsoft.datawrangler.viewer.v0+json": {
       "columns": [
        {
         "name": "index",
         "rawType": "int64",
         "type": "integer"
        },
        {
         "name": "score_JG",
         "rawType": "float64",
         "type": "float"
        },
        {
         "name": "country_name_ltn",
         "rawType": "object",
         "type": "string"
        },
        {
         "name": "nuts_id",
         "rawType": "object",
         "type": "string"
        },
        {
         "name": "gend",
         "rawType": "int64",
         "type": "integer"
        },
        {
         "name": "edu",
         "rawType": "float64",
         "type": "float"
        },
        {
         "name": "emp",
         "rawType": "int64",
         "type": "integer"
        },
        {
         "name": "age",
         "rawType": "int64",
         "type": "integer"
        },
        {
         "name": "urban",
         "rawType": "int64",
         "type": "integer"
        },
        {
         "name": "ethni_groups",
         "rawType": "float64",
         "type": "float"
        }
       ],
       "conversionMethod": "pd.DataFrame",
       "ref": "55ca2a24-19b7-4ce8-97a8-0b246ae5d9d8",
       "rows": [
        [
         "0",
         "0.3518518518518518",
         "Austria",
         "AT1",
         "0",
         "3.0",
         "1",
         "50",
         "1",
         "0.0"
        ],
        [
         "1",
         "0.0555555555555555",
         "Austria",
         "AT1",
         "0",
         "6.0",
         "1",
         "49",
         "1",
         "0.0"
        ],
        [
         "2",
         "0.5",
         "Austria",
         "AT1",
         "1",
         "3.0",
         "6",
         "70",
         "0",
         "1.0"
        ],
        [
         "3",
         "0.9444444444444444",
         "Austria",
         "AT1",
         "0",
         "5.0",
         "7",
         "39",
         "1",
         "1.0"
        ],
        [
         "4",
         "0.5",
         "Austria",
         "AT1",
         "1",
         "7.0",
         "7",
         "53",
         "1",
         "0.0"
        ],
        [
         "5",
         "0.9444444444444444",
         "Austria",
         "AT1",
         "0",
         "4.0",
         "1",
         "23",
         "0",
         "1.0"
        ],
        [
         "7",
         "0.0555555555555555",
         "Austria",
         "AT1",
         "1",
         "7.0",
         "6",
         "76",
         "1",
         "1.0"
        ],
        [
         "8",
         "0.0555555555555555",
         "Austria",
         "AT1",
         "0",
         "7.0",
         "5",
         "40",
         "0",
         "1.0"
        ],
        [
         "9",
         "0.0555555555555555",
         "Austria",
         "AT1",
         "1",
         "7.0",
         "1",
         "53",
         "1",
         "1.0"
        ],
        [
         "10",
         "0.6481481481481481",
         "Austria",
         "AT1",
         "1",
         "6.0",
         "1",
         "39",
         "1",
         "0.0"
        ],
        [
         "11",
         "0.9444444444444444",
         "Austria",
         "AT1",
         "1",
         "7.0",
         "4",
         "37",
         "1",
         "1.0"
        ],
        [
         "12",
         "0.9444444444444444",
         "Austria",
         "AT1",
         "1",
         "7.0",
         "6",
         "68",
         "1",
         "0.0"
        ],
        [
         "13",
         "0.0555555555555555",
         "Austria",
         "AT1",
         "0",
         "7.0",
         "6",
         "73",
         "1",
         "0.0"
        ],
        [
         "14",
         "0.5",
         "Austria",
         "AT1",
         "0",
         "7.0",
         "1",
         "24",
         "1",
         "0.0"
        ],
        [
         "15",
         "0.0555555555555555",
         "Austria",
         "AT1",
         "0",
         "3.0",
         "1",
         "42",
         "0",
         "1.0"
        ],
        [
         "16",
         "0.0555555555555555",
         "Austria",
         "AT1",
         "0",
         "7.0",
         "5",
         "32",
         "0",
         "0.0"
        ],
        [
         "17",
         "0.9444444444444444",
         "Austria",
         "AT1",
         "0",
         "6.0",
         "1",
         "34",
         "1",
         "0.0"
        ],
        [
         "18",
         "0.5",
         "Austria",
         "AT1",
         "0",
         "6.0",
         "1",
         "48",
         "1",
         "0.0"
        ],
        [
         "19",
         "0.5",
         "Austria",
         "AT1",
         "0",
         "6.0",
         "1",
         "29",
         "1",
         "1.0"
        ],
        [
         "20",
         "0.6481481481481481",
         "Austria",
         "AT1",
         "1",
         "4.0",
         "1",
         "39",
         "1",
         "0.0"
        ],
        [
         "21",
         "0.5",
         "Austria",
         "AT1",
         "0",
         "4.0",
         "1",
         "52",
         "1",
         "1.0"
        ],
        [
         "22",
         "0.5",
         "Austria",
         "AT1",
         "0",
         "3.0",
         "1",
         "54",
         "1",
         "1.0"
        ],
        [
         "23",
         "0.9444444444444444",
         "Austria",
         "AT1",
         "1",
         "4.0",
         "1",
         "50",
         "1",
         "1.0"
        ],
        [
         "24",
         "0.9444444444444444",
         "Austria",
         "AT1",
         "0",
         "4.0",
         "6",
         "71",
         "1",
         "1.0"
        ],
        [
         "25",
         "0.6481481481481481",
         "Austria",
         "AT1",
         "1",
         "3.0",
         "1",
         "52",
         "1",
         "0.0"
        ],
        [
         "26",
         "0.3518518518518518",
         "Austria",
         "AT1",
         "1",
         "6.0",
         "5",
         "59",
         "1",
         "1.0"
        ],
        [
         "27",
         "0.9444444444444444",
         "Austria",
         "AT1",
         "1",
         "7.0",
         "1",
         "55",
         "1",
         "1.0"
        ],
        [
         "28",
         "0.0555555555555555",
         "Austria",
         "AT1",
         "1",
         "3.0",
         "1",
         "60",
         "1",
         "1.0"
        ],
        [
         "29",
         "0.5",
         "Austria",
         "AT1",
         "0",
         "6.0",
         "4",
         "46",
         "1",
         "1.0"
        ],
        [
         "30",
         "0.0555555555555555",
         "Austria",
         "AT1",
         "1",
         "4.0",
         "1",
         "49",
         "0",
         "1.0"
        ],
        [
         "31",
         "0.3518518518518518",
         "Austria",
         "AT1",
         "0",
         "7.0",
         "6",
         "63",
         "0",
         "0.0"
        ],
        [
         "32",
         "0.9444444444444444",
         "Austria",
         "AT1",
         "1",
         "6.0",
         "1",
         "47",
         "1",
         "0.0"
        ],
        [
         "33",
         "0.9444444444444444",
         "Austria",
         "AT1",
         "1",
         "4.0",
         "6",
         "62",
         "1",
         "1.0"
        ],
        [
         "34",
         "0.6481481481481481",
         "Austria",
         "AT1",
         "0",
         "4.0",
         "1",
         "26",
         "0",
         "0.0"
        ],
        [
         "35",
         "0.5",
         "Austria",
         "AT1",
         "1",
         "4.0",
         "6",
         "63",
         "1",
         "1.0"
        ],
        [
         "36",
         "0.9444444444444444",
         "Austria",
         "AT1",
         "1",
         "4.0",
         "1",
         "40",
         "0",
         "1.0"
        ],
        [
         "38",
         "0.3518518518518518",
         "Austria",
         "AT1",
         "1",
         "4.0",
         "1",
         "45",
         "1",
         "1.0"
        ],
        [
         "39",
         "0.9444444444444444",
         "Austria",
         "AT1",
         "1",
         "6.0",
         "4",
         "53",
         "1",
         "0.0"
        ],
        [
         "40",
         "0.0555555555555555",
         "Austria",
         "AT1",
         "0",
         "4.0",
         "1",
         "33",
         "1",
         "1.0"
        ],
        [
         "41",
         "0.0555555555555555",
         "Austria",
         "AT1",
         "0",
         "4.0",
         "4",
         "21",
         "1",
         "0.0"
        ],
        [
         "42",
         "0.0555555555555555",
         "Austria",
         "AT1",
         "0",
         "4.0",
         "1",
         "58",
         "0",
         "0.0"
        ],
        [
         "43",
         "0.6481481481481481",
         "Austria",
         "AT1",
         "0",
         "4.0",
         "6",
         "66",
         "0",
         "1.0"
        ],
        [
         "44",
         "0.9444444444444444",
         "Austria",
         "AT1",
         "0",
         "3.0",
         "6",
         "64",
         "1",
         "1.0"
        ],
        [
         "45",
         "0.5",
         "Austria",
         "AT1",
         "1",
         "7.0",
         "1",
         "63",
         "0",
         "1.0"
        ],
        [
         "46",
         "0.5",
         "Austria",
         "AT1",
         "0",
         "4.0",
         "1",
         "44",
         "1",
         "0.0"
        ],
        [
         "47",
         "0.5",
         "Austria",
         "AT1",
         "0",
         "7.0",
         "5",
         "59",
         "1",
         "1.0"
        ],
        [
         "48",
         "0.9444444444444444",
         "Austria",
         "AT1",
         "1",
         "4.0",
         "6",
         "67",
         "1",
         "1.0"
        ],
        [
         "49",
         "0.9444444444444444",
         "Austria",
         "AT1",
         "0",
         "4.0",
         "5",
         "42",
         "0",
         "0.0"
        ],
        [
         "50",
         "0.0555555555555555",
         "Austria",
         "AT1",
         "1",
         "6.0",
         "1",
         "46",
         "0",
         "0.0"
        ],
        [
         "51",
         "0.9444444444444444",
         "Austria",
         "AT1",
         "1",
         "7.0",
         "1",
         "44",
         "1",
         "1.0"
        ]
       ],
       "shape": {
        "columns": 9,
        "rows": 27254
       }
      },
      "text/html": [
       "<div>\n",
       "<style scoped>\n",
       "    .dataframe tbody tr th:only-of-type {\n",
       "        vertical-align: middle;\n",
       "    }\n",
       "\n",
       "    .dataframe tbody tr th {\n",
       "        vertical-align: top;\n",
       "    }\n",
       "\n",
       "    .dataframe thead th {\n",
       "        text-align: right;\n",
       "    }\n",
       "</style>\n",
       "<table border=\"1\" class=\"dataframe\">\n",
       "  <thead>\n",
       "    <tr style=\"text-align: right;\">\n",
       "      <th></th>\n",
       "      <th>score_JG</th>\n",
       "      <th>country_name_ltn</th>\n",
       "      <th>nuts_id</th>\n",
       "      <th>gend</th>\n",
       "      <th>edu</th>\n",
       "      <th>emp</th>\n",
       "      <th>age</th>\n",
       "      <th>urban</th>\n",
       "      <th>ethni_groups</th>\n",
       "    </tr>\n",
       "  </thead>\n",
       "  <tbody>\n",
       "    <tr>\n",
       "      <th>0</th>\n",
       "      <td>0.351852</td>\n",
       "      <td>Austria</td>\n",
       "      <td>AT1</td>\n",
       "      <td>0</td>\n",
       "      <td>3.0</td>\n",
       "      <td>1</td>\n",
       "      <td>50</td>\n",
       "      <td>1</td>\n",
       "      <td>0.0</td>\n",
       "    </tr>\n",
       "    <tr>\n",
       "      <th>1</th>\n",
       "      <td>0.055556</td>\n",
       "      <td>Austria</td>\n",
       "      <td>AT1</td>\n",
       "      <td>0</td>\n",
       "      <td>6.0</td>\n",
       "      <td>1</td>\n",
       "      <td>49</td>\n",
       "      <td>1</td>\n",
       "      <td>0.0</td>\n",
       "    </tr>\n",
       "    <tr>\n",
       "      <th>2</th>\n",
       "      <td>0.500000</td>\n",
       "      <td>Austria</td>\n",
       "      <td>AT1</td>\n",
       "      <td>1</td>\n",
       "      <td>3.0</td>\n",
       "      <td>6</td>\n",
       "      <td>70</td>\n",
       "      <td>0</td>\n",
       "      <td>1.0</td>\n",
       "    </tr>\n",
       "    <tr>\n",
       "      <th>3</th>\n",
       "      <td>0.944444</td>\n",
       "      <td>Austria</td>\n",
       "      <td>AT1</td>\n",
       "      <td>0</td>\n",
       "      <td>5.0</td>\n",
       "      <td>7</td>\n",
       "      <td>39</td>\n",
       "      <td>1</td>\n",
       "      <td>1.0</td>\n",
       "    </tr>\n",
       "    <tr>\n",
       "      <th>4</th>\n",
       "      <td>0.500000</td>\n",
       "      <td>Austria</td>\n",
       "      <td>AT1</td>\n",
       "      <td>1</td>\n",
       "      <td>7.0</td>\n",
       "      <td>7</td>\n",
       "      <td>53</td>\n",
       "      <td>1</td>\n",
       "      <td>0.0</td>\n",
       "    </tr>\n",
       "    <tr>\n",
       "      <th>...</th>\n",
       "      <td>...</td>\n",
       "      <td>...</td>\n",
       "      <td>...</td>\n",
       "      <td>...</td>\n",
       "      <td>...</td>\n",
       "      <td>...</td>\n",
       "      <td>...</td>\n",
       "      <td>...</td>\n",
       "      <td>...</td>\n",
       "    </tr>\n",
       "    <tr>\n",
       "      <th>27703</th>\n",
       "      <td>0.055556</td>\n",
       "      <td>Sweden</td>\n",
       "      <td>SE3</td>\n",
       "      <td>0</td>\n",
       "      <td>7.0</td>\n",
       "      <td>1</td>\n",
       "      <td>31</td>\n",
       "      <td>1</td>\n",
       "      <td>0.0</td>\n",
       "    </tr>\n",
       "    <tr>\n",
       "      <th>27704</th>\n",
       "      <td>0.944444</td>\n",
       "      <td>Sweden</td>\n",
       "      <td>SE3</td>\n",
       "      <td>0</td>\n",
       "      <td>5.0</td>\n",
       "      <td>1</td>\n",
       "      <td>28</td>\n",
       "      <td>1</td>\n",
       "      <td>0.0</td>\n",
       "    </tr>\n",
       "    <tr>\n",
       "      <th>27705</th>\n",
       "      <td>0.055556</td>\n",
       "      <td>Sweden</td>\n",
       "      <td>SE3</td>\n",
       "      <td>1</td>\n",
       "      <td>4.0</td>\n",
       "      <td>3</td>\n",
       "      <td>26</td>\n",
       "      <td>1</td>\n",
       "      <td>0.0</td>\n",
       "    </tr>\n",
       "    <tr>\n",
       "      <th>27706</th>\n",
       "      <td>0.500000</td>\n",
       "      <td>Sweden</td>\n",
       "      <td>SE3</td>\n",
       "      <td>1</td>\n",
       "      <td>4.0</td>\n",
       "      <td>1</td>\n",
       "      <td>55</td>\n",
       "      <td>0</td>\n",
       "      <td>0.0</td>\n",
       "    </tr>\n",
       "    <tr>\n",
       "      <th>27707</th>\n",
       "      <td>0.944444</td>\n",
       "      <td>Sweden</td>\n",
       "      <td>SE3</td>\n",
       "      <td>1</td>\n",
       "      <td>7.0</td>\n",
       "      <td>1</td>\n",
       "      <td>61</td>\n",
       "      <td>1</td>\n",
       "      <td>0.0</td>\n",
       "    </tr>\n",
       "  </tbody>\n",
       "</table>\n",
       "<p>27254 rows × 9 columns</p>\n",
       "</div>"
      ],
      "text/plain": [
       "       score_JG country_name_ltn nuts_id  gend  edu  emp  age  urban  \\\n",
       "0      0.351852          Austria     AT1     0  3.0    1   50      1   \n",
       "1      0.055556          Austria     AT1     0  6.0    1   49      1   \n",
       "2      0.500000          Austria     AT1     1  3.0    6   70      0   \n",
       "3      0.944444          Austria     AT1     0  5.0    7   39      1   \n",
       "4      0.500000          Austria     AT1     1  7.0    7   53      1   \n",
       "...         ...              ...     ...   ...  ...  ...  ...    ...   \n",
       "27703  0.055556           Sweden     SE3     0  7.0    1   31      1   \n",
       "27704  0.944444           Sweden     SE3     0  5.0    1   28      1   \n",
       "27705  0.055556           Sweden     SE3     1  4.0    3   26      1   \n",
       "27706  0.500000           Sweden     SE3     1  4.0    1   55      0   \n",
       "27707  0.944444           Sweden     SE3     1  7.0    1   61      1   \n",
       "\n",
       "       ethni_groups  \n",
       "0               0.0  \n",
       "1               0.0  \n",
       "2               1.0  \n",
       "3               1.0  \n",
       "4               0.0  \n",
       "...             ...  \n",
       "27703           0.0  \n",
       "27704           0.0  \n",
       "27705           0.0  \n",
       "27706           0.0  \n",
       "27707           0.0  \n",
       "\n",
       "[27254 rows x 9 columns]"
      ]
     },
     "execution_count": 800,
     "metadata": {},
     "output_type": "execute_result"
    }
   ],
   "source": [
    "df['gend'] = df['gend'].apply(lambda x: 0 if x == 2 else 1)\n",
    "df['urban'] = df['urban'].apply(lambda x: 0 if x == 2 else 1)\n",
    "\n",
    "df"
   ]
  },
  {
   "cell_type": "code",
   "execution_count": 801,
   "metadata": {},
   "outputs": [
    {
     "data": {
      "application/vnd.microsoft.datawrangler.viewer.v0+json": {
       "columns": [
        {
         "name": "index",
         "rawType": "int64",
         "type": "integer"
        },
        {
         "name": "country_name_ltn",
         "rawType": "object",
         "type": "string"
        },
        {
         "name": "nuts_id",
         "rawType": "object",
         "type": "string"
        },
        {
         "name": "score_JG",
         "rawType": "float64",
         "type": "float"
        },
        {
         "name": "gend",
         "rawType": "float64",
         "type": "float"
        },
        {
         "name": "edu",
         "rawType": "float64",
         "type": "float"
        },
        {
         "name": "emp",
         "rawType": "float64",
         "type": "float"
        },
        {
         "name": "age",
         "rawType": "float64",
         "type": "float"
        },
        {
         "name": "urban",
         "rawType": "float64",
         "type": "float"
        },
        {
         "name": "ethni_groups",
         "rawType": "float64",
         "type": "float"
        }
       ],
       "conversionMethod": "pd.DataFrame",
       "ref": "472841f1-b770-421c-8c21-a607f54a1740",
       "rows": [
        [
         "0",
         "Austria",
         "AT1",
         "0.5062160062160062",
         "0.48484848484848486",
         "5.013986013986014",
         "2.9044289044289044",
         "45.96503496503497",
         "0.7156177156177156",
         "0.6107226107226107"
        ],
        [
         "1",
         "Austria",
         "AT2",
         "0.5037792894935752",
         "0.42857142857142855",
         "4.997448979591836",
         "2.9183673469387754",
         "46.87244897959184",
         "0.5994897959183674",
         "0.5739795918367347"
        ],
        [
         "2",
         "Austria",
         "AT3",
         "0.5166288737717308",
         "0.43112244897959184",
         "4.961734693877551",
         "2.711734693877551",
         "45.41836734693877",
         "0.6352040816326531",
         "0.5178571428571429"
        ],
        [
         "3",
         "Belgium",
         "BE1",
         "0.5382491582491582",
         "0.48727272727272725",
         "4.996363636363636",
         "2.909090909090909",
         "42.25090909090909",
         "1.0",
         "0.46545454545454545"
        ],
        [
         "4",
         "Belgium",
         "BE2",
         "0.5204115226337448",
         "0.4666666666666667",
         "4.404444444444445",
         "3.368888888888889",
         "48.022222222222226",
         "0.9288888888888889",
         "0.6533333333333333"
        ],
        [
         "5",
         "Belgium",
         "BE3",
         "0.5235155790711347",
         "0.4444444444444444",
         "4.694444444444445",
         "3.4126984126984126",
         "46.19047619047619",
         "0.746031746031746",
         "0.746031746031746"
        ],
        [
         "6",
         "Bulgaria",
         "BG3",
         "0.5874074074074074",
         "0.46",
         "5.11",
         "2.45",
         "48.51",
         "0.74",
         "0.86"
        ],
        [
         "7",
         "Bulgaria",
         "BG4",
         "0.54",
         "0.485",
         "5.235",
         "2.635",
         "47.265",
         "0.79",
         "0.915"
        ],
        [
         "8",
         "Croatia",
         "HR02",
         "0.49525166191832853",
         "0.4551282051282051",
         "4.243589743589744",
         "3.358974358974359",
         "49.42307692307692",
         "0.5641025641025641",
         "0.8653846153846154"
        ],
        [
         "9",
         "Croatia",
         "HR03",
         "0.5211640211640212",
         "0.4630541871921182",
         "4.5073891625615765",
         "2.684729064039409",
         "48.46305418719212",
         "0.5763546798029556",
         "0.8817733990147784"
        ],
        [
         "10",
         "Croatia",
         "HR05",
         "0.4993296463884699",
         "0.5113122171945701",
         "4.633484162895928",
         "2.8642533936651584",
         "48.26696832579186",
         "1.0",
         "0.9547511312217195"
        ],
        [
         "11",
         "Croatia",
         "HR06",
         "0.4538032656312226",
         "0.4946236559139785",
         "4.473118279569892",
         "3.0591397849462365",
         "49.37096774193548",
         "0.46774193548387094",
         "0.9354838709677419"
        ],
        [
         "12",
         "Cyprus",
         "CY0",
         "0.4933416562630045",
         "0.4606741573033708",
         "4.957865168539326",
         "1.8623595505617978",
         "41.098314606741575",
         "0.6966292134831461",
         "0.9241573033707865"
        ],
        [
         "13",
         "Czechia",
         "CZ01",
         "0.4259259259259259",
         "0.5",
         "4.492753623188406",
         "2.463768115942029",
         "46.48550724637681",
         "1.0",
         "0.0"
        ],
        [
         "14",
         "Czechia",
         "CZ020304",
         "0.4864084267753992",
         "0.45642201834862384",
         "4.105504587155964",
         "2.7775229357798166",
         "46.26376146788991",
         "0.6399082568807339",
         "0.0"
        ],
        [
         "15",
         "Czechia",
         "CZ0506",
         "0.4333907550961814",
         "0.4573643410852713",
         "4.151162790697675",
         "2.937984496124031",
         "45.51162790697674",
         "0.6007751937984496",
         "0.0"
        ],
        [
         "16",
         "Czechia",
         "CZ0708",
         "0.4468186134852801",
         "0.4652014652014652",
         "4.153846153846154",
         "2.600732600732601",
         "45.97435897435897",
         "0.7032967032967034",
         "0.0"
        ],
        [
         "17",
         "Denmark",
         "DK01",
         "0.5584995251661918",
         "0.5076923076923077",
         "5.2153846153846155",
         "2.6769230769230767",
         "43.343589743589746",
         "0.9538461538461539",
         "0.8871794871794871"
        ],
        [
         "18",
         "Denmark",
         "DK02",
         "0.5648148148148148",
         "0.4479166666666667",
         "5.1875",
         "3.265625",
         "46.932291666666664",
         "0.5989583333333334",
         "0.9166666666666666"
        ],
        [
         "19",
         "Denmark",
         "DK03",
         "0.4914529914529914",
         "0.4423076923076923",
         "5.096153846153846",
         "3.108974358974359",
         "46.0",
         "0.5833333333333334",
         "0.9551282051282052"
        ],
        [
         "20",
         "Denmark",
         "DK04",
         "0.5186243386243385",
         "0.4742857142857143",
         "5.32",
         "3.257142857142857",
         "43.51428571428571",
         "0.5542857142857143",
         "0.9314285714285714"
        ],
        [
         "21",
         "Denmark",
         "DK05",
         "0.5191158900836319",
         "0.45698924731182794",
         "5.064516129032258",
         "3.306451612903226",
         "47.026881720430104",
         "0.5376344086021505",
         "0.946236559139785"
        ],
        [
         "22",
         "Estonia",
         "EE0",
         "0.4481634843953684",
         "0.4389233954451346",
         "5.084886128364389",
         "2.546583850931677",
         "47.2463768115942",
         "0.6376811594202898",
         "0.0"
        ],
        [
         "23",
         "Finland",
         "FI19",
         "0.4951515151515151",
         "0.43636363636363634",
         "5.810909090909091",
         "3.5927272727272728",
         "47.167272727272724",
         "0.730909090909091",
         "0.0"
        ],
        [
         "24",
         "Finland",
         "FI1B",
         "0.45913154533844186",
         "0.4559386973180077",
         "5.574712643678161",
         "2.835249042145594",
         "46.065134099616856",
         "0.9003831417624522",
         "0.0"
        ],
        [
         "25",
         "Finland",
         "FI1C20",
         "0.4729191557148546",
         "0.44802867383512546",
         "5.706093189964157",
         "3.2903225806451615",
         "45.81720430107527",
         "0.8207885304659498",
         "0.0"
        ],
        [
         "26",
         "Finland",
         "FI1D",
         "0.4688764394646747",
         "0.46638655462184875",
         "5.739495798319328",
         "3.672268907563025",
         "49.621848739495796",
         "0.6512605042016807",
         "0.0"
        ],
        [
         "27",
         "France",
         "FR1",
         "0.5439560439560439",
         "0.46886446886446886",
         "5.029304029304029",
         "2.923076923076923",
         "54.45787545787546",
         "0.9523809523809523",
         "0.0"
        ],
        [
         "28",
         "France",
         "FRB",
         "0.5211640211640212",
         "0.4489795918367347",
         "4.779591836734694",
         "3.3469387755102042",
         "48.220408163265304",
         "0.5306122448979592",
         "0.0"
        ],
        [
         "29",
         "France",
         "FRC",
         "0.5220139818533392",
         "0.4859437751004016",
         "4.763052208835341",
         "3.2570281124497993",
         "48.55020080321285",
         "0.5100401606425703",
         "0.0"
        ],
        [
         "30",
         "France",
         "FRD",
         "0.5169312169312169",
         "0.4775510204081633",
         "4.812244897959184",
         "3.3755102040816327",
         "51.35510204081633",
         "0.6040816326530613",
         "0.0"
        ],
        [
         "31",
         "France",
         "FRE",
         "0.5012882447665056",
         "0.5043478260869565",
         "4.760869565217392",
         "3.0521739130434784",
         "48.80869565217391",
         "0.7521739130434782",
         "0.0"
        ],
        [
         "32",
         "France",
         "FRF",
         "0.528906955736224",
         "0.4634146341463415",
         "4.764227642276423",
         "3.5203252032520327",
         "48.80487804878049",
         "0.6016260162601627",
         "0.0"
        ],
        [
         "33",
         "France",
         "FRG",
         "0.5272592592592592",
         "0.476",
         "4.808",
         "3.232",
         "48.356",
         "0.58",
         "0.0"
        ],
        [
         "34",
         "France",
         "FRH",
         "0.5215924426450741",
         "0.4493927125506073",
         "4.8582995951417",
         "3.194331983805668",
         "48.097165991902834",
         "0.5708502024291497",
         "0.0"
        ],
        [
         "35",
         "France",
         "FRI",
         "0.494074074074074",
         "0.476",
         "4.784",
         "3.608",
         "50.132",
         "0.508",
         "0.0"
        ],
        [
         "36",
         "France",
         "FRJ",
         "0.5623480623480623",
         "0.47104247104247104",
         "4.903474903474904",
         "3.370656370656371",
         "47.77606177606177",
         "0.6911196911196911",
         "0.0"
        ],
        [
         "37",
         "France",
         "FRK",
         "0.5241748024174803",
         "0.47280334728033474",
         "4.912133891213389",
         "3.276150627615063",
         "47.66945606694561",
         "0.6610878661087866",
         "0.0"
        ],
        [
         "38",
         "France",
         "FRL",
         "0.5548264800233305",
         "0.48031496062992124",
         "4.948818897637795",
         "3.3661417322834644",
         "49.818897637795274",
         "0.8543307086614174",
         "0.0"
        ],
        [
         "39",
         "France",
         "FRM",
         "0.4812865497076023",
         "0.4105263157894737",
         "4.831578947368421",
         "3.463157894736842",
         "47.38947368421053",
         "0.5789473684210527",
         "0.0"
        ],
        [
         "40",
         "Germany",
         "DE1",
         "0.4864246716836358",
         "0.4581673306772908",
         "4.99601593625498",
         "2.768924302788845",
         "47.21513944223108",
         "0.896414342629482",
         "0.7609561752988048"
        ],
        [
         "41",
         "Germany",
         "DE2",
         "0.50443178220956",
         "0.4658119658119658",
         "5.170940170940171",
         "2.7905982905982905",
         "46.24786324786325",
         "0.7863247863247863",
         "0.6367521367521367"
        ],
        [
         "42",
         "Germany",
         "DE3",
         "0.5157952069716775",
         "0.40441176470588236",
         "5.444852941176471",
         "2.8161764705882355",
         "45.33455882352941",
         "1.0",
         "0.8566176470588235"
        ],
        [
         "43",
         "Germany",
         "DE4",
         "0.5285138695180536",
         "0.4351464435146444",
         "5.2217573221757325",
         "3.0334728033472804",
         "48.99163179916318",
         "0.7573221757322176",
         "0.9372384937238494"
        ],
        [
         "44",
         "Germany",
         "DE5",
         "0.5172501268391679",
         "0.3972602739726027",
         "4.815068493150685",
         "2.952054794520548",
         "42.342465753424655",
         "1.0",
         "0.7876712328767124"
        ],
        [
         "45",
         "Germany",
         "DE6",
         "0.5076730116570753",
         "0.46613545816733065",
         "4.960159362549801",
         "2.804780876494024",
         "44.75298804780876",
         "1.0",
         "0.8605577689243028"
        ],
        [
         "46",
         "Germany",
         "DE7",
         "0.5321561871949468",
         "0.47674418604651164",
         "4.9186046511627906",
         "2.9186046511627906",
         "46.174418604651166",
         "0.8062015503875969",
         "0.8527131782945736"
        ],
        [
         "47",
         "Germany",
         "DE8",
         "0.5167171062112695",
         "0.46303501945525294",
         "4.926070038910506",
         "3.09727626459144",
         "50.023346303501945",
         "0.669260700389105",
         "0.9416342412451362"
        ],
        [
         "48",
         "Germany",
         "DE9",
         "0.5025324469768914",
         "0.4829059829059829",
         "4.965811965811966",
         "3.3076923076923075",
         "47.2991452991453",
         "0.782051282051282",
         "0.9230769230769231"
        ],
        [
         "49",
         "Germany",
         "DEA",
         "0.4972463169489191",
         "0.4684014869888476",
         "5.044609665427509",
         "2.9814126394052045",
         "46.71003717472119",
         "0.9591078066914498",
         "0.8810408921933085"
        ]
       ],
       "shape": {
        "columns": 9,
        "rows": 107
       }
      },
      "text/html": [
       "<div>\n",
       "<style scoped>\n",
       "    .dataframe tbody tr th:only-of-type {\n",
       "        vertical-align: middle;\n",
       "    }\n",
       "\n",
       "    .dataframe tbody tr th {\n",
       "        vertical-align: top;\n",
       "    }\n",
       "\n",
       "    .dataframe thead th {\n",
       "        text-align: right;\n",
       "    }\n",
       "</style>\n",
       "<table border=\"1\" class=\"dataframe\">\n",
       "  <thead>\n",
       "    <tr style=\"text-align: right;\">\n",
       "      <th></th>\n",
       "      <th>country_name_ltn</th>\n",
       "      <th>nuts_id</th>\n",
       "      <th>score_JG</th>\n",
       "      <th>gend</th>\n",
       "      <th>edu</th>\n",
       "      <th>emp</th>\n",
       "      <th>age</th>\n",
       "      <th>urban</th>\n",
       "      <th>ethni_groups</th>\n",
       "    </tr>\n",
       "  </thead>\n",
       "  <tbody>\n",
       "    <tr>\n",
       "      <th>0</th>\n",
       "      <td>Austria</td>\n",
       "      <td>AT1</td>\n",
       "      <td>0.506216</td>\n",
       "      <td>0.484848</td>\n",
       "      <td>5.013986</td>\n",
       "      <td>2.904429</td>\n",
       "      <td>45.965035</td>\n",
       "      <td>0.715618</td>\n",
       "      <td>0.610723</td>\n",
       "    </tr>\n",
       "    <tr>\n",
       "      <th>1</th>\n",
       "      <td>Austria</td>\n",
       "      <td>AT2</td>\n",
       "      <td>0.503779</td>\n",
       "      <td>0.428571</td>\n",
       "      <td>4.997449</td>\n",
       "      <td>2.918367</td>\n",
       "      <td>46.872449</td>\n",
       "      <td>0.599490</td>\n",
       "      <td>0.573980</td>\n",
       "    </tr>\n",
       "    <tr>\n",
       "      <th>2</th>\n",
       "      <td>Austria</td>\n",
       "      <td>AT3</td>\n",
       "      <td>0.516629</td>\n",
       "      <td>0.431122</td>\n",
       "      <td>4.961735</td>\n",
       "      <td>2.711735</td>\n",
       "      <td>45.418367</td>\n",
       "      <td>0.635204</td>\n",
       "      <td>0.517857</td>\n",
       "    </tr>\n",
       "    <tr>\n",
       "      <th>3</th>\n",
       "      <td>Belgium</td>\n",
       "      <td>BE1</td>\n",
       "      <td>0.538249</td>\n",
       "      <td>0.487273</td>\n",
       "      <td>4.996364</td>\n",
       "      <td>2.909091</td>\n",
       "      <td>42.250909</td>\n",
       "      <td>1.000000</td>\n",
       "      <td>0.465455</td>\n",
       "    </tr>\n",
       "    <tr>\n",
       "      <th>4</th>\n",
       "      <td>Belgium</td>\n",
       "      <td>BE2</td>\n",
       "      <td>0.520412</td>\n",
       "      <td>0.466667</td>\n",
       "      <td>4.404444</td>\n",
       "      <td>3.368889</td>\n",
       "      <td>48.022222</td>\n",
       "      <td>0.928889</td>\n",
       "      <td>0.653333</td>\n",
       "    </tr>\n",
       "    <tr>\n",
       "      <th>...</th>\n",
       "      <td>...</td>\n",
       "      <td>...</td>\n",
       "      <td>...</td>\n",
       "      <td>...</td>\n",
       "      <td>...</td>\n",
       "      <td>...</td>\n",
       "      <td>...</td>\n",
       "      <td>...</td>\n",
       "      <td>...</td>\n",
       "    </tr>\n",
       "    <tr>\n",
       "      <th>102</th>\n",
       "      <td>Spain</td>\n",
       "      <td>ES6</td>\n",
       "      <td>0.494926</td>\n",
       "      <td>0.486301</td>\n",
       "      <td>4.917808</td>\n",
       "      <td>2.760274</td>\n",
       "      <td>45.044521</td>\n",
       "      <td>0.897260</td>\n",
       "      <td>0.000000</td>\n",
       "    </tr>\n",
       "    <tr>\n",
       "      <th>103</th>\n",
       "      <td>Spain</td>\n",
       "      <td>ES7</td>\n",
       "      <td>0.544269</td>\n",
       "      <td>0.434911</td>\n",
       "      <td>5.032544</td>\n",
       "      <td>2.618343</td>\n",
       "      <td>43.775148</td>\n",
       "      <td>0.934911</td>\n",
       "      <td>0.000000</td>\n",
       "    </tr>\n",
       "    <tr>\n",
       "      <th>104</th>\n",
       "      <td>Sweden</td>\n",
       "      <td>SE1</td>\n",
       "      <td>0.503688</td>\n",
       "      <td>0.481328</td>\n",
       "      <td>4.887967</td>\n",
       "      <td>2.576763</td>\n",
       "      <td>43.124481</td>\n",
       "      <td>0.879668</td>\n",
       "      <td>0.000000</td>\n",
       "    </tr>\n",
       "    <tr>\n",
       "      <th>105</th>\n",
       "      <td>Sweden</td>\n",
       "      <td>SE2</td>\n",
       "      <td>0.485111</td>\n",
       "      <td>0.452261</td>\n",
       "      <td>4.959799</td>\n",
       "      <td>2.834171</td>\n",
       "      <td>47.346734</td>\n",
       "      <td>0.683417</td>\n",
       "      <td>0.000000</td>\n",
       "    </tr>\n",
       "    <tr>\n",
       "      <th>106</th>\n",
       "      <td>Sweden</td>\n",
       "      <td>SE3</td>\n",
       "      <td>0.465919</td>\n",
       "      <td>0.511737</td>\n",
       "      <td>4.793427</td>\n",
       "      <td>2.798122</td>\n",
       "      <td>58.441315</td>\n",
       "      <td>0.591549</td>\n",
       "      <td>0.000000</td>\n",
       "    </tr>\n",
       "  </tbody>\n",
       "</table>\n",
       "<p>107 rows × 9 columns</p>\n",
       "</div>"
      ],
      "text/plain": [
       "    country_name_ltn nuts_id  score_JG      gend       edu       emp  \\\n",
       "0            Austria     AT1  0.506216  0.484848  5.013986  2.904429   \n",
       "1            Austria     AT2  0.503779  0.428571  4.997449  2.918367   \n",
       "2            Austria     AT3  0.516629  0.431122  4.961735  2.711735   \n",
       "3            Belgium     BE1  0.538249  0.487273  4.996364  2.909091   \n",
       "4            Belgium     BE2  0.520412  0.466667  4.404444  3.368889   \n",
       "..               ...     ...       ...       ...       ...       ...   \n",
       "102            Spain     ES6  0.494926  0.486301  4.917808  2.760274   \n",
       "103            Spain     ES7  0.544269  0.434911  5.032544  2.618343   \n",
       "104           Sweden     SE1  0.503688  0.481328  4.887967  2.576763   \n",
       "105           Sweden     SE2  0.485111  0.452261  4.959799  2.834171   \n",
       "106           Sweden     SE3  0.465919  0.511737  4.793427  2.798122   \n",
       "\n",
       "           age     urban  ethni_groups  \n",
       "0    45.965035  0.715618      0.610723  \n",
       "1    46.872449  0.599490      0.573980  \n",
       "2    45.418367  0.635204      0.517857  \n",
       "3    42.250909  1.000000      0.465455  \n",
       "4    48.022222  0.928889      0.653333  \n",
       "..         ...       ...           ...  \n",
       "102  45.044521  0.897260      0.000000  \n",
       "103  43.775148  0.934911      0.000000  \n",
       "104  43.124481  0.879668      0.000000  \n",
       "105  47.346734  0.683417      0.000000  \n",
       "106  58.441315  0.591549      0.000000  \n",
       "\n",
       "[107 rows x 9 columns]"
      ]
     },
     "execution_count": 801,
     "metadata": {},
     "output_type": "execute_result"
    }
   ],
   "source": [
    "# Maybe we should explore scaling ALL of these values, Idk why but just seems like it could maybe help... \n",
    "df_grouped = df.groupby(['country_name_ltn','nuts_id']).mean().reset_index()\n",
    "df_grouped"
   ]
  },
  {
   "cell_type": "code",
   "execution_count": 802,
   "metadata": {},
   "outputs": [
    {
     "data": {
      "text/plain": [
       "<Axes: ylabel='Density'>"
      ]
     },
     "execution_count": 802,
     "metadata": {},
     "output_type": "execute_result"
    },
    {
     "data": {
      "image/png": "[encoded data removed]",
      "text/plain": [
       "<Figure size 432x288 with 1 Axes>"
      ]
     },
     "metadata": {
      "needs_background": "light"
     },
     "output_type": "display_data"
    }
   ],
   "source": [
    "df_grouped.score_JG.plot(kind = 'kde')"
   ]
  },
  {
   "cell_type": "code",
   "execution_count": 803,
   "metadata": {},
   "outputs": [
    {
     "data": {
      "text/plain": [
       "<Axes: ylabel='Density'>"
      ]
     },
     "execution_count": 803,
     "metadata": {},
     "output_type": "execute_result"
    },
    {
     "data": {
      "image/png": "[encoded data removed]",
      "text/plain": [
       "<Figure size 432x288 with 1 Axes>"
      ]
     },
     "metadata": {
      "needs_background": "light"
     },
     "output_type": "display_data"
    }
   ],
   "source": [
    "X = logit(df_grouped.score_JG)\n",
    "X.plot(kind = 'kde')"
   ]
  },
  {
   "cell_type": "code",
   "execution_count": 804,
   "metadata": {},
   "outputs": [
    {
     "data": {
      "application/vnd.microsoft.datawrangler.viewer.v0+json": {
       "columns": [
        {
         "name": "index",
         "rawType": "int64",
         "type": "integer"
        },
        {
         "name": "gend",
         "rawType": "float64",
         "type": "float"
        },
        {
         "name": "edu",
         "rawType": "float64",
         "type": "float"
        },
        {
         "name": "emp",
         "rawType": "float64",
         "type": "float"
        },
        {
         "name": "age",
         "rawType": "float64",
         "type": "float"
        },
        {
         "name": "urban",
         "rawType": "float64",
         "type": "float"
        },
        {
         "name": "ethni_groups",
         "rawType": "float64",
         "type": "float"
        }
       ],
       "conversionMethod": "pd.DataFrame",
       "ref": "b2e7e52f-b025-4fdc-8b01-84f4f832ed36",
       "rows": [
        [
         "0",
         "0.48484848484848486",
         "5.013986013986014",
         "2.9044289044289044",
         "45.96503496503497",
         "0.7156177156177156",
         "0.6107226107226107"
        ],
        [
         "1",
         "0.42857142857142855",
         "4.997448979591836",
         "2.9183673469387754",
         "46.87244897959184",
         "0.5994897959183674",
         "0.5739795918367347"
        ],
        [
         "2",
         "0.43112244897959184",
         "4.961734693877551",
         "2.711734693877551",
         "45.41836734693877",
         "0.6352040816326531",
         "0.5178571428571429"
        ],
        [
         "3",
         "0.48727272727272725",
         "4.996363636363636",
         "2.909090909090909",
         "42.25090909090909",
         "1.0",
         "0.46545454545454545"
        ],
        [
         "4",
         "0.4666666666666667",
         "4.404444444444445",
         "3.368888888888889",
         "48.022222222222226",
         "0.9288888888888889",
         "0.6533333333333333"
        ],
        [
         "5",
         "0.4444444444444444",
         "4.694444444444445",
         "3.4126984126984126",
         "46.19047619047619",
         "0.746031746031746",
         "0.746031746031746"
        ],
        [
         "6",
         "0.46",
         "5.11",
         "2.45",
         "48.51",
         "0.74",
         "0.86"
        ],
        [
         "7",
         "0.485",
         "5.235",
         "2.635",
         "47.265",
         "0.79",
         "0.915"
        ],
        [
         "8",
         "0.4551282051282051",
         "4.243589743589744",
         "3.358974358974359",
         "49.42307692307692",
         "0.5641025641025641",
         "0.8653846153846154"
        ],
        [
         "9",
         "0.4630541871921182",
         "4.5073891625615765",
         "2.684729064039409",
         "48.46305418719212",
         "0.5763546798029556",
         "0.8817733990147784"
        ],
        [
         "10",
         "0.5113122171945701",
         "4.633484162895928",
         "2.8642533936651584",
         "48.26696832579186",
         "1.0",
         "0.9547511312217195"
        ],
        [
         "11",
         "0.4946236559139785",
         "4.473118279569892",
         "3.0591397849462365",
         "49.37096774193548",
         "0.46774193548387094",
         "0.9354838709677419"
        ],
        [
         "12",
         "0.4606741573033708",
         "4.957865168539326",
         "1.8623595505617978",
         "41.098314606741575",
         "0.6966292134831461",
         "0.9241573033707865"
        ],
        [
         "13",
         "0.5",
         "4.492753623188406",
         "2.463768115942029",
         "46.48550724637681",
         "1.0",
         "0.0"
        ],
        [
         "14",
         "0.45642201834862384",
         "4.105504587155964",
         "2.7775229357798166",
         "46.26376146788991",
         "0.6399082568807339",
         "0.0"
        ],
        [
         "15",
         "0.4573643410852713",
         "4.151162790697675",
         "2.937984496124031",
         "45.51162790697674",
         "0.6007751937984496",
         "0.0"
        ],
        [
         "16",
         "0.4652014652014652",
         "4.153846153846154",
         "2.600732600732601",
         "45.97435897435897",
         "0.7032967032967034",
         "0.0"
        ],
        [
         "17",
         "0.5076923076923077",
         "5.2153846153846155",
         "2.6769230769230767",
         "43.343589743589746",
         "0.9538461538461539",
         "0.8871794871794871"
        ],
        [
         "18",
         "0.4479166666666667",
         "5.1875",
         "3.265625",
         "46.932291666666664",
         "0.5989583333333334",
         "0.9166666666666666"
        ],
        [
         "19",
         "0.4423076923076923",
         "5.096153846153846",
         "3.108974358974359",
         "46.0",
         "0.5833333333333334",
         "0.9551282051282052"
        ],
        [
         "20",
         "0.4742857142857143",
         "5.32",
         "3.257142857142857",
         "43.51428571428571",
         "0.5542857142857143",
         "0.9314285714285714"
        ],
        [
         "21",
         "0.45698924731182794",
         "5.064516129032258",
         "3.306451612903226",
         "47.026881720430104",
         "0.5376344086021505",
         "0.946236559139785"
        ],
        [
         "22",
         "0.4389233954451346",
         "5.084886128364389",
         "2.546583850931677",
         "47.2463768115942",
         "0.6376811594202898",
         "0.0"
        ],
        [
         "23",
         "0.43636363636363634",
         "5.810909090909091",
         "3.5927272727272728",
         "47.167272727272724",
         "0.730909090909091",
         "0.0"
        ],
        [
         "24",
         "0.4559386973180077",
         "5.574712643678161",
         "2.835249042145594",
         "46.065134099616856",
         "0.9003831417624522",
         "0.0"
        ],
        [
         "25",
         "0.44802867383512546",
         "5.706093189964157",
         "3.2903225806451615",
         "45.81720430107527",
         "0.8207885304659498",
         "0.0"
        ],
        [
         "26",
         "0.46638655462184875",
         "5.739495798319328",
         "3.672268907563025",
         "49.621848739495796",
         "0.6512605042016807",
         "0.0"
        ],
        [
         "27",
         "0.46886446886446886",
         "5.029304029304029",
         "2.923076923076923",
         "54.45787545787546",
         "0.9523809523809523",
         "0.0"
        ],
        [
         "28",
         "0.4489795918367347",
         "4.779591836734694",
         "3.3469387755102042",
         "48.220408163265304",
         "0.5306122448979592",
         "0.0"
        ],
        [
         "29",
         "0.4859437751004016",
         "4.763052208835341",
         "3.2570281124497993",
         "48.55020080321285",
         "0.5100401606425703",
         "0.0"
        ],
        [
         "30",
         "0.4775510204081633",
         "4.812244897959184",
         "3.3755102040816327",
         "51.35510204081633",
         "0.6040816326530613",
         "0.0"
        ],
        [
         "31",
         "0.5043478260869565",
         "4.760869565217392",
         "3.0521739130434784",
         "48.80869565217391",
         "0.7521739130434782",
         "0.0"
        ],
        [
         "32",
         "0.4634146341463415",
         "4.764227642276423",
         "3.5203252032520327",
         "48.80487804878049",
         "0.6016260162601627",
         "0.0"
        ],
        [
         "33",
         "0.476",
         "4.808",
         "3.232",
         "48.356",
         "0.58",
         "0.0"
        ],
        [
         "34",
         "0.4493927125506073",
         "4.8582995951417",
         "3.194331983805668",
         "48.097165991902834",
         "0.5708502024291497",
         "0.0"
        ],
        [
         "35",
         "0.476",
         "4.784",
         "3.608",
         "50.132",
         "0.508",
         "0.0"
        ],
        [
         "36",
         "0.47104247104247104",
         "4.903474903474904",
         "3.370656370656371",
         "47.77606177606177",
         "0.6911196911196911",
         "0.0"
        ],
        [
         "37",
         "0.47280334728033474",
         "4.912133891213389",
         "3.276150627615063",
         "47.66945606694561",
         "0.6610878661087866",
         "0.0"
        ],
        [
         "38",
         "0.48031496062992124",
         "4.948818897637795",
         "3.3661417322834644",
         "49.818897637795274",
         "0.8543307086614174",
         "0.0"
        ],
        [
         "39",
         "0.4105263157894737",
         "4.831578947368421",
         "3.463157894736842",
         "47.38947368421053",
         "0.5789473684210527",
         "0.0"
        ],
        [
         "40",
         "0.4581673306772908",
         "4.99601593625498",
         "2.768924302788845",
         "47.21513944223108",
         "0.896414342629482",
         "0.7609561752988048"
        ],
        [
         "41",
         "0.4658119658119658",
         "5.170940170940171",
         "2.7905982905982905",
         "46.24786324786325",
         "0.7863247863247863",
         "0.6367521367521367"
        ],
        [
         "42",
         "0.40441176470588236",
         "5.444852941176471",
         "2.8161764705882355",
         "45.33455882352941",
         "1.0",
         "0.8566176470588235"
        ],
        [
         "43",
         "0.4351464435146444",
         "5.2217573221757325",
         "3.0334728033472804",
         "48.99163179916318",
         "0.7573221757322176",
         "0.9372384937238494"
        ],
        [
         "44",
         "0.3972602739726027",
         "4.815068493150685",
         "2.952054794520548",
         "42.342465753424655",
         "1.0",
         "0.7876712328767124"
        ],
        [
         "45",
         "0.46613545816733065",
         "4.960159362549801",
         "2.804780876494024",
         "44.75298804780876",
         "1.0",
         "0.8605577689243028"
        ],
        [
         "46",
         "0.47674418604651164",
         "4.9186046511627906",
         "2.9186046511627906",
         "46.174418604651166",
         "0.8062015503875969",
         "0.8527131782945736"
        ],
        [
         "47",
         "0.46303501945525294",
         "4.926070038910506",
         "3.09727626459144",
         "50.023346303501945",
         "0.669260700389105",
         "0.9416342412451362"
        ],
        [
         "48",
         "0.4829059829059829",
         "4.965811965811966",
         "3.3076923076923075",
         "47.2991452991453",
         "0.782051282051282",
         "0.9230769230769231"
        ],
        [
         "49",
         "0.4684014869888476",
         "5.044609665427509",
         "2.9814126394052045",
         "46.71003717472119",
         "0.9591078066914498",
         "0.8810408921933085"
        ]
       ],
       "shape": {
        "columns": 6,
        "rows": 107
       }
      },
      "text/html": [
       "<div>\n",
       "<style scoped>\n",
       "    .dataframe tbody tr th:only-of-type {\n",
       "        vertical-align: middle;\n",
       "    }\n",
       "\n",
       "    .dataframe tbody tr th {\n",
       "        vertical-align: top;\n",
       "    }\n",
       "\n",
       "    .dataframe thead th {\n",
       "        text-align: right;\n",
       "    }\n",
       "</style>\n",
       "<table border=\"1\" class=\"dataframe\">\n",
       "  <thead>\n",
       "    <tr style=\"text-align: right;\">\n",
       "      <th></th>\n",
       "      <th>gend</th>\n",
       "      <th>edu</th>\n",
       "      <th>emp</th>\n",
       "      <th>age</th>\n",
       "      <th>urban</th>\n",
       "      <th>ethni_groups</th>\n",
       "    </tr>\n",
       "  </thead>\n",
       "  <tbody>\n",
       "    <tr>\n",
       "      <th>0</th>\n",
       "      <td>0.484848</td>\n",
       "      <td>5.013986</td>\n",
       "      <td>2.904429</td>\n",
       "      <td>45.965035</td>\n",
       "      <td>0.715618</td>\n",
       "      <td>0.610723</td>\n",
       "    </tr>\n",
       "    <tr>\n",
       "      <th>1</th>\n",
       "      <td>0.428571</td>\n",
       "      <td>4.997449</td>\n",
       "      <td>2.918367</td>\n",
       "      <td>46.872449</td>\n",
       "      <td>0.599490</td>\n",
       "      <td>0.573980</td>\n",
       "    </tr>\n",
       "    <tr>\n",
       "      <th>2</th>\n",
       "      <td>0.431122</td>\n",
       "      <td>4.961735</td>\n",
       "      <td>2.711735</td>\n",
       "      <td>45.418367</td>\n",
       "      <td>0.635204</td>\n",
       "      <td>0.517857</td>\n",
       "    </tr>\n",
       "    <tr>\n",
       "      <th>3</th>\n",
       "      <td>0.487273</td>\n",
       "      <td>4.996364</td>\n",
       "      <td>2.909091</td>\n",
       "      <td>42.250909</td>\n",
       "      <td>1.000000</td>\n",
       "      <td>0.465455</td>\n",
       "    </tr>\n",
       "    <tr>\n",
       "      <th>4</th>\n",
       "      <td>0.466667</td>\n",
       "      <td>4.404444</td>\n",
       "      <td>3.368889</td>\n",
       "      <td>48.022222</td>\n",
       "      <td>0.928889</td>\n",
       "      <td>0.653333</td>\n",
       "    </tr>\n",
       "    <tr>\n",
       "      <th>...</th>\n",
       "      <td>...</td>\n",
       "      <td>...</td>\n",
       "      <td>...</td>\n",
       "      <td>...</td>\n",
       "      <td>...</td>\n",
       "      <td>...</td>\n",
       "    </tr>\n",
       "    <tr>\n",
       "      <th>102</th>\n",
       "      <td>0.486301</td>\n",
       "      <td>4.917808</td>\n",
       "      <td>2.760274</td>\n",
       "      <td>45.044521</td>\n",
       "      <td>0.897260</td>\n",
       "      <td>0.000000</td>\n",
       "    </tr>\n",
       "    <tr>\n",
       "      <th>103</th>\n",
       "      <td>0.434911</td>\n",
       "      <td>5.032544</td>\n",
       "      <td>2.618343</td>\n",
       "      <td>43.775148</td>\n",
       "      <td>0.934911</td>\n",
       "      <td>0.000000</td>\n",
       "    </tr>\n",
       "    <tr>\n",
       "      <th>104</th>\n",
       "      <td>0.481328</td>\n",
       "      <td>4.887967</td>\n",
       "      <td>2.576763</td>\n",
       "      <td>43.124481</td>\n",
       "      <td>0.879668</td>\n",
       "      <td>0.000000</td>\n",
       "    </tr>\n",
       "    <tr>\n",
       "      <th>105</th>\n",
       "      <td>0.452261</td>\n",
       "      <td>4.959799</td>\n",
       "      <td>2.834171</td>\n",
       "      <td>47.346734</td>\n",
       "      <td>0.683417</td>\n",
       "      <td>0.000000</td>\n",
       "    </tr>\n",
       "    <tr>\n",
       "      <th>106</th>\n",
       "      <td>0.511737</td>\n",
       "      <td>4.793427</td>\n",
       "      <td>2.798122</td>\n",
       "      <td>58.441315</td>\n",
       "      <td>0.591549</td>\n",
       "      <td>0.000000</td>\n",
       "    </tr>\n",
       "  </tbody>\n",
       "</table>\n",
       "<p>107 rows × 6 columns</p>\n",
       "</div>"
      ],
      "text/plain": [
       "         gend       edu       emp        age     urban  ethni_groups\n",
       "0    0.484848  5.013986  2.904429  45.965035  0.715618      0.610723\n",
       "1    0.428571  4.997449  2.918367  46.872449  0.599490      0.573980\n",
       "2    0.431122  4.961735  2.711735  45.418367  0.635204      0.517857\n",
       "3    0.487273  4.996364  2.909091  42.250909  1.000000      0.465455\n",
       "4    0.466667  4.404444  3.368889  48.022222  0.928889      0.653333\n",
       "..        ...       ...       ...        ...       ...           ...\n",
       "102  0.486301  4.917808  2.760274  45.044521  0.897260      0.000000\n",
       "103  0.434911  5.032544  2.618343  43.775148  0.934911      0.000000\n",
       "104  0.481328  4.887967  2.576763  43.124481  0.879668      0.000000\n",
       "105  0.452261  4.959799  2.834171  47.346734  0.683417      0.000000\n",
       "106  0.511737  4.793427  2.798122  58.441315  0.591549      0.000000\n",
       "\n",
       "[107 rows x 6 columns]"
      ]
     },
     "execution_count": 804,
     "metadata": {},
     "output_type": "execute_result"
    }
   ],
   "source": [
    "Y = df_grouped[[\"gend\",\"edu\",\"emp\",\"age\",\"urban\",\"ethni_groups\"]]\n",
    "Y"
   ]
  },
  {
   "cell_type": "code",
   "execution_count": 805,
   "metadata": {},
   "outputs": [
    {
     "data": {
      "text/plain": [
       "<Axes: >"
      ]
     },
     "execution_count": 805,
     "metadata": {},
     "output_type": "execute_result"
    },
    {
     "data": {
      "image/png": "[encoded data removed]",
      "text/plain": [
       "<Figure size 432x288 with 2 Axes>"
      ]
     },
     "metadata": {
      "needs_background": "light"
     },
     "output_type": "display_data"
    }
   ],
   "source": [
    "sns.heatmap(Y.corr(),annot=True)\n"
   ]
  },
  {
   "cell_type": "code",
   "execution_count": 806,
   "metadata": {},
   "outputs": [],
   "source": [
    "# This is flipped because my X and Y were flipped further up \n",
    "Y_train,Y_test,X_train, X_test = train_test_split(X,Y,test_size=0.2)"
   ]
  },
  {
   "cell_type": "code",
   "execution_count": 807,
   "metadata": {},
   "outputs": [],
   "source": [
    "p = X_train.shape[1]\n",
    "n = X_train.shape[0]\n",
    "beta_0 = np.zeros(p)  \n",
    "V_0 = np.eye(p) * 10\n",
    "a_0, b_0 = 2, 2 "
   ]
  },
  {
   "cell_type": "code",
   "execution_count": 808,
   "metadata": {},
   "outputs": [],
   "source": [
    "eps = 1e-6\n",
    "Y_train = np.clip(Y_train, eps, 1 - eps)\n",
    "Y_train = np.log(Y_train / (1 - Y_train))\n",
    "\n",
    "V_n = np.linalg.inv(X_train.T @ X_train + np.linalg.inv(V_0))\n",
    "beta_n = V_n @ (X_train.T @ Y_train + np.linalg.inv(V_0) @ beta_0)\n",
    "a_n = a_0 + n / 2\n",
    "b_n = b_0 + 0.5 * ((Y_train - X_train @ beta_n).T @ (Y_train - X_train @ beta_n)) + 0.5 * np.trace(X_train.T @ X_train @ V_n)\n",
    "\n",
    "# sigma2_sample = invgamma.rvs(a_n, scale=b_n, size=1) \n",
    "# beta_sample = multivariate_t.rvs(beta_n, V_n) \n",
    "\n",
    "sigma2_sample = invgamma.rvs(a_n, scale=b_n, size=1)\n",
    "beta_sample = multivariate_normal.rvs(mean=beta_n, cov=sigma2_sample * V_n)\n",
    "\n",
    "mu_pred = X_test @ beta_sample\n",
    "logit_samples = np.random.normal(mu_pred, np.sqrt(sigma2_sample)) \n",
    "y_pred = 1 / (1 + np.exp(-logit_samples))\n",
    "\n",
    "# Y_test = (Y_test - np.min(Y_test)) / (np.max(Y_test) - np.min(Y_test))"
   ]
  },
  {
   "cell_type": "code",
   "execution_count": 809,
   "metadata": {},
   "outputs": [
    {
     "name": "stdout",
     "output_type": "stream",
     "text": [
      "Model Performance Metrics:\n",
      "--------------------------------\n",
      "Mean Squared Error (MSE)  : 0.1265\n",
      "Root Mean Squared Error (RMSE) : 0.3557\n",
      "Mean Absolute Error (MAE) : 0.2350\n",
      "R² Score : -3.4075\n"
     ]
    }
   ],
   "source": [
    "def MSE_RMSE_MAE_R2(y_test, y_pred):\n",
    "    y_test = np.array(y_test)\n",
    "    y_pred = np.array(y_pred)\n",
    "    ss_total = np.sum((y_test - np.mean(y_test)) ** 2)  \n",
    "    ss_residual = np.sum((y_test - y_pred) ** 2)  \n",
    "    r2 = 1 - (ss_residual / ss_total) if ss_total != 0 else float(\"nan\") \n",
    "    MSE = np.mean((y_test - y_pred) ** 2)\n",
    "    RMSE = np.sqrt(MSE)\n",
    "    MAE = np.mean(np.abs(y_test - y_pred))\n",
    "    return MSE, RMSE, MAE, r2\n",
    "MSE, RMSE, MAE, R2 = MSE_RMSE_MAE_R2(Y_test, y_pred)\n",
    "\n",
    "print(f\"Model Performance Metrics:\")\n",
    "print(\"--------------------------------\")\n",
    "print(f\"Mean Squared Error (MSE)  : {MSE:.4f}\")\n",
    "print(f\"Root Mean Squared Error (RMSE) : {RMSE:.4f}\")\n",
    "print(f\"Mean Absolute Error (MAE) : {MAE:.4f}\")\n",
    "print(f\"R² Score : {R2:.4f}\")\n"
   ]
  },
  {
   "cell_type": "code",
   "execution_count": 810,
   "metadata": {},
   "outputs": [
    {
     "data": {
      "image/png": "[encoded data removed]",
      "text/plain": [
       "<Figure size 432x288 with 1 Axes>"
      ]
     },
     "metadata": {
      "needs_background": "light"
     },
     "output_type": "display_data"
    }
   ],
   "source": [
    "plt.scatter(Y_test, y_pred, color=\"blue\", label=\"Predicted vs Actual\")\n",
    "plt.plot([min(Y_test), max(Y_test)], [min(Y_test), max(Y_test)], color=\"red\", linestyle=\"dashed\", label=\"Ideal Fit\")\n",
    "plt.xlabel(\"Actual Values\")\n",
    "plt.ylabel(\"Predicted Values\")\n",
    "plt.legend()\n",
    "plt.show()\n"
   ]
  },
  {
   "cell_type": "code",
   "execution_count": 811,
   "metadata": {},
   "outputs": [
    {
     "data": {
      "text/plain": [
       "<Axes: ylabel='Density'>"
      ]
     },
     "execution_count": 811,
     "metadata": {},
     "output_type": "execute_result"
    },
    {
     "data": {
      "image/png": "[encoded data removed]",
      "text/plain": [
       "<Figure size 432x288 with 1 Axes>"
      ]
     },
     "metadata": {
      "needs_background": "light"
     },
     "output_type": "display_data"
    }
   ],
   "source": [
    "Y_test = np.array(Y_test)\n",
    "comparisons = pd.DataFrame({\"predicted\": y_pred, \"actual\": Y_test})\n",
    "comparisons\n",
    "comparisons.plot(kind='kde')"
   ]
  },
  {
   "cell_type": "code",
   "execution_count": 812,
   "metadata": {},
   "outputs": [
    {
     "data": {
      "text/plain": [
       "Text(0.5, 1.0, 'Distribution of Predictions vs. Actuals')"
      ]
     },
     "execution_count": 812,
     "metadata": {},
     "output_type": "execute_result"
    },
    {
     "data": {
      "image/png": "[encoded data removed]",
      "text/plain": [
       "<Figure size 432x288 with 1 Axes>"
      ]
     },
     "metadata": {
      "needs_background": "light"
     },
     "output_type": "display_data"
    }
   ],
   "source": [
    "sns.histplot(y_pred, kde=True, color=\"blue\", label=\"Predicted\")\n",
    "sns.histplot(Y_test, kde=True, color=\"red\", label=\"Actual\", alpha=0.6)\n",
    "plt.legend()\n",
    "plt.title(\"Distribution of Predictions vs. Actuals\")"
   ]
  },
  {
   "cell_type": "code",
   "execution_count": 813,
   "metadata": {},
   "outputs": [
    {
     "data": {
      "image/png": "[encoded data removed]",
      "text/plain": [
       "<Figure size 432x288 with 1 Axes>"
      ]
     },
     "metadata": {
      "needs_background": "light"
     },
     "output_type": "display_data"
    }
   ],
   "source": [
    "plt.scatter(Y_test, y_pred, color=\"blue\", label=\"Predicted vs Actual\")\n",
    "plt.xlabel(\"Actual Values (Y_test)\")\n",
    "plt.ylabel(\"Predicted Probabilities (y_pred)\")\n",
    "plt.axhline(y=np.mean(Y_test), color=\"red\", linestyle=\"dashed\", label=\"Mean of Y_test\")\n",
    "plt.legend()\n",
    "plt.title(\"Predicted vs Actual\")\n",
    "plt.show()\n"
   ]
  },
  {
   "cell_type": "code",
   "execution_count": null,
   "metadata": {},
   "outputs": [],
   "source": []
  }
 ],
 "metadata": {
  "kernelspec": {
   "display_name": ".venv",
   "language": "python",
   "name": "python3"
  },
  "language_info": {
   "codemirror_mode": {
    "name": "ipython",
    "version": 3
   },
   "file_extension": ".py",
   "mimetype": "text/x-python",
   "name": "python",
   "nbconvert_exporter": "python",
   "pygments_lexer": "ipython3",
   "version": "3.10.6"
  }
 },
 "nbformat": 4,
 "nbformat_minor": 2
}
